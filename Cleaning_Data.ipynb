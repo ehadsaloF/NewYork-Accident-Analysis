{
  "cells": [
    {
      "cell_type": "markdown",
      "metadata": {
        "id": "view-in-github",
        "colab_type": "text"
      },
      "source": [
        "<a href=\"https://colab.research.google.com/github/ehadsaloF/NewYork-Accident-Analysis/blob/main/Cleaning_Data.ipynb\" target=\"_parent\"><img src=\"https://colab.research.google.com/assets/colab-badge.svg\" alt=\"Open In Colab\"/></a>"
      ]
    },
    {
      "cell_type": "code",
      "execution_count": null,
      "metadata": {
        "id": "IRWo-Ei1F4pv",
        "colab": {
          "base_uri": "https://localhost:8080/"
        },
        "outputId": "1b50e477-7f6e-41db-bf3d-bf46481f23e7"
      },
      "outputs": [
        {
          "output_type": "stream",
          "name": "stderr",
          "text": [
            "<ipython-input-2-99d769b962c8>:8: TqdmDeprecationWarning: This function will be removed in tqdm==5.0.0\n",
            "Please use `tqdm.notebook.*` instead of `tqdm._tqdm_notebook.*`\n",
            "  from tqdm._tqdm_notebook import tqdm_notebook\n"
          ]
        }
      ],
      "source": [
        "import pandas as pd\n",
        "\n",
        "from geopy.geocoders import Nominatim\n",
        "from geopy.extra.rate_limiter import RateLimiter\n",
        "\n",
        "import tqdm\n",
        "from tqdm.auto import tqdm\n",
        "from tqdm._tqdm_notebook import tqdm_notebook"
      ]
    },
    {
      "cell_type": "code",
      "execution_count": null,
      "metadata": {
        "id": "bj6Q-H7hIYvd"
      },
      "outputs": [],
      "source": [
        "#importing data from Maven Analytics\n",
        "df = pd.read_csv(\"https://maven-datasets.s3.amazonaws.com/NYC+Traffic+Accidents/NYC+Accidents+2020.csv.zip\")"
      ]
    },
    {
      "cell_type": "code",
      "execution_count": null,
      "metadata": {
        "colab": {
          "base_uri": "https://localhost:8080/"
        },
        "id": "UTi7TOovLtlU",
        "outputId": "667c491e-99d0-4454-f5d6-398a88bb141c"
      },
      "outputs": [
        {
          "output_type": "execute_result",
          "data": {
            "text/plain": [
              "CRASH DATE                        object\n",
              "CRASH TIME                        object\n",
              "BOROUGH                           object\n",
              "ZIP CODE                         float64\n",
              "LATITUDE                         float64\n",
              "LONGITUDE                        float64\n",
              "LOCATION                          object\n",
              "ON STREET NAME                    object\n",
              "CROSS STREET NAME                 object\n",
              "OFF STREET NAME                   object\n",
              "NUMBER OF PERSONS INJURED          int64\n",
              "NUMBER OF PERSONS KILLED           int64\n",
              "NUMBER OF PEDESTRIANS INJURED      int64\n",
              "NUMBER OF PEDESTRIANS KILLED       int64\n",
              "NUMBER OF CYCLIST INJURED          int64\n",
              "NUMBER OF CYCLIST KILLED           int64\n",
              "NUMBER OF MOTORIST INJURED         int64\n",
              "NUMBER OF MOTORIST KILLED          int64\n",
              "CONTRIBUTING FACTOR VEHICLE 1     object\n",
              "CONTRIBUTING FACTOR VEHICLE 2     object\n",
              "CONTRIBUTING FACTOR VEHICLE 3     object\n",
              "CONTRIBUTING FACTOR VEHICLE 4     object\n",
              "CONTRIBUTING FACTOR VEHICLE 5     object\n",
              "COLLISION_ID                       int64\n",
              "VEHICLE TYPE CODE 1               object\n",
              "VEHICLE TYPE CODE 2               object\n",
              "VEHICLE TYPE CODE 3               object\n",
              "VEHICLE TYPE CODE 4               object\n",
              "VEHICLE TYPE CODE 5               object\n",
              "dtype: object"
            ]
          },
          "metadata": {},
          "execution_count": 4
        }
      ],
      "source": [
        "#checking the datatype of the columns\n",
        "df.dtypes"
      ]
    },
    {
      "cell_type": "code",
      "execution_count": null,
      "metadata": {
        "colab": {
          "base_uri": "https://localhost:8080/"
        },
        "id": "TNWIOO2rNSF9",
        "outputId": "02a3989c-1651-403a-d4d2-1b7460d26e19"
      },
      "outputs": [
        {
          "output_type": "execute_result",
          "data": {
            "text/plain": [
              "CRASH DATE                       datetime64[ns]\n",
              "CRASH TIME                       datetime64[ns]\n",
              "BOROUGH                                  object\n",
              "ZIP CODE                                float64\n",
              "LATITUDE                                float64\n",
              "LONGITUDE                               float64\n",
              "LOCATION                                 object\n",
              "ON STREET NAME                           object\n",
              "CROSS STREET NAME                        object\n",
              "OFF STREET NAME                          object\n",
              "NUMBER OF PERSONS INJURED                 int64\n",
              "NUMBER OF PERSONS KILLED                  int64\n",
              "NUMBER OF PEDESTRIANS INJURED             int64\n",
              "NUMBER OF PEDESTRIANS KILLED              int64\n",
              "NUMBER OF CYCLIST INJURED                 int64\n",
              "NUMBER OF CYCLIST KILLED                  int64\n",
              "NUMBER OF MOTORIST INJURED                int64\n",
              "NUMBER OF MOTORIST KILLED                 int64\n",
              "CONTRIBUTING FACTOR VEHICLE 1            object\n",
              "CONTRIBUTING FACTOR VEHICLE 2            object\n",
              "CONTRIBUTING FACTOR VEHICLE 3            object\n",
              "CONTRIBUTING FACTOR VEHICLE 4            object\n",
              "CONTRIBUTING FACTOR VEHICLE 5            object\n",
              "COLLISION_ID                              int64\n",
              "VEHICLE TYPE CODE 1                      object\n",
              "VEHICLE TYPE CODE 2                      object\n",
              "VEHICLE TYPE CODE 3                      object\n",
              "VEHICLE TYPE CODE 4                      object\n",
              "VEHICLE TYPE CODE 5                      object\n",
              "dtype: object"
            ]
          },
          "metadata": {},
          "execution_count": 5
        }
      ],
      "source": [
        "#Changing the datatype of Crash Date and Crash Time \n",
        "df[\"CRASH DATE\"] = pd.to_datetime(df['CRASH DATE'], format='%Y-%m-%d')\n",
        "df[\"CRASH TIME\"] = pd.to_datetime(df['CRASH TIME'])\n",
        "\n",
        "#confirming the changes\n",
        "df.dtypes"
      ]
    },
    {
      "cell_type": "code",
      "execution_count": null,
      "metadata": {
        "colab": {
          "base_uri": "https://localhost:8080/"
        },
        "id": "MLW-HEshSQzT",
        "outputId": "505edaac-5fe1-41f3-824c-9fa6ec41bb28"
      },
      "outputs": [
        {
          "output_type": "execute_result",
          "data": {
            "text/plain": [
              "0"
            ]
          },
          "metadata": {},
          "execution_count": 6
        }
      ],
      "source": [
        "#checking for duplicates\n",
        "df.duplicated().sum()"
      ]
    },
    {
      "cell_type": "code",
      "execution_count": null,
      "metadata": {
        "colab": {
          "base_uri": "https://localhost:8080/"
        },
        "id": "AR5fCqW5UAj2",
        "outputId": "17710b8d-62f5-4992-acdd-f488c32d0c4b"
      },
      "outputs": [
        {
          "output_type": "execute_result",
          "data": {
            "text/plain": [
              "(74881, 29)"
            ]
          },
          "metadata": {},
          "execution_count": 7
        }
      ],
      "source": [
        "df.shape"
      ]
    },
    {
      "cell_type": "code",
      "execution_count": null,
      "metadata": {
        "colab": {
          "base_uri": "https://localhost:8080/"
        },
        "id": "YcpIaJIyT0IQ",
        "outputId": "02273a8d-f4ba-4695-e917-560c9174583a"
      },
      "outputs": [
        {
          "output_type": "execute_result",
          "data": {
            "text/plain": [
              "CRASH DATE                           0\n",
              "CRASH TIME                           0\n",
              "BOROUGH                          25741\n",
              "ZIP CODE                         25747\n",
              "LATITUDE                          5946\n",
              "LONGITUDE                         5946\n",
              "LOCATION                          5946\n",
              "ON STREET NAME                   19437\n",
              "CROSS STREET NAME                39200\n",
              "OFF STREET NAME                  55444\n",
              "NUMBER OF PERSONS INJURED            0\n",
              "NUMBER OF PERSONS KILLED             0\n",
              "NUMBER OF PEDESTRIANS INJURED        0\n",
              "NUMBER OF PEDESTRIANS KILLED         0\n",
              "NUMBER OF CYCLIST INJURED            0\n",
              "NUMBER OF CYCLIST KILLED             0\n",
              "NUMBER OF MOTORIST INJURED           0\n",
              "NUMBER OF MOTORIST KILLED            0\n",
              "CONTRIBUTING FACTOR VEHICLE 1      304\n",
              "CONTRIBUTING FACTOR VEHICLE 2    15596\n",
              "CONTRIBUTING FACTOR VEHICLE 3    68116\n",
              "CONTRIBUTING FACTOR VEHICLE 4    73030\n",
              "CONTRIBUTING FACTOR VEHICLE 5    74358\n",
              "COLLISION_ID                         0\n",
              "VEHICLE TYPE CODE 1                635\n",
              "VEHICLE TYPE CODE 2              21243\n",
              "VEHICLE TYPE CODE 3              68457\n",
              "VEHICLE TYPE CODE 4              73110\n",
              "VEHICLE TYPE CODE 5              74378\n",
              "dtype: int64"
            ]
          },
          "metadata": {},
          "execution_count": 8
        }
      ],
      "source": [
        "#checking for missing values\n",
        "df.isna().sum()"
      ]
    },
    {
      "cell_type": "code",
      "execution_count": null,
      "metadata": {
        "colab": {
          "base_uri": "https://localhost:8080/"
        },
        "id": "cbNOGsX_SqxA",
        "outputId": "55ed30b4-d531-4bc7-e5bb-eb57b6c270ad"
      },
      "outputs": [
        {
          "output_type": "execute_result",
          "data": {
            "text/plain": [
              "CRASH DATE                         0\n",
              "CRASH TIME                         0\n",
              "BOROUGH                          147\n",
              "ZIP CODE                         147\n",
              "LATITUDE                          29\n",
              "LONGITUDE                         29\n",
              "LOCATION                          29\n",
              "ON STREET NAME                   184\n",
              "CROSS STREET NAME                284\n",
              "OFF STREET NAME                  451\n",
              "NUMBER OF PERSONS INJURED          0\n",
              "NUMBER OF PERSONS KILLED           0\n",
              "NUMBER OF PEDESTRIANS INJURED      0\n",
              "NUMBER OF PEDESTRIANS KILLED       0\n",
              "NUMBER OF CYCLIST INJURED          0\n",
              "NUMBER OF CYCLIST KILLED           0\n",
              "NUMBER OF MOTORIST INJURED         0\n",
              "NUMBER OF MOTORIST KILLED          0\n",
              "CONTRIBUTING FACTOR VEHICLE 1    247\n",
              "CONTRIBUTING FACTOR VEHICLE 2    624\n",
              "CONTRIBUTING FACTOR VEHICLE 3    635\n",
              "CONTRIBUTING FACTOR VEHICLE 4    635\n",
              "CONTRIBUTING FACTOR VEHICLE 5    635\n",
              "COLLISION_ID                       0\n",
              "VEHICLE TYPE CODE 1              635\n",
              "VEHICLE TYPE CODE 2              635\n",
              "VEHICLE TYPE CODE 3              635\n",
              "VEHICLE TYPE CODE 4              635\n",
              "VEHICLE TYPE CODE 5              635\n",
              "dtype: int64"
            ]
          },
          "metadata": {},
          "execution_count": 9
        }
      ],
      "source": [
        "#getting the number of records that have all vehicle type codes missing\n",
        "df[df[\"VEHICLE TYPE CODE 1\"].isna() & df[\"VEHICLE TYPE CODE 2\"].isna() & df[\"VEHICLE TYPE CODE 3\"].isna() & df[\"VEHICLE TYPE CODE 4\"].isna() & df[\"VEHICLE TYPE CODE 5\"].isna()].isna().sum()"
      ]
    },
    {
      "cell_type": "code",
      "execution_count": null,
      "metadata": {
        "id": "7AI8UgVQYUa8"
      },
      "outputs": [],
      "source": [
        "#deleting records that have no vehicle type code\n",
        "df = df.dropna(how='all', subset=[\"VEHICLE TYPE CODE 1\", \"VEHICLE TYPE CODE 2\", \n",
        "                                  \"VEHICLE TYPE CODE 3\", \"VEHICLE TYPE CODE 4\", \n",
        "                                  \"VEHICLE TYPE CODE 5\",])\n"
      ]
    },
    {
      "cell_type": "code",
      "execution_count": null,
      "metadata": {
        "colab": {
          "base_uri": "https://localhost:8080/"
        },
        "id": "KgNqm_NXZT_d",
        "outputId": "265b8fcf-4b06-42c3-cfca-cd11597875fd"
      },
      "outputs": [
        {
          "output_type": "execute_result",
          "data": {
            "text/plain": [
              "CRASH DATE                          0\n",
              "CRASH TIME                          0\n",
              "BOROUGH                          4536\n",
              "ZIP CODE                         4536\n",
              "LATITUDE                         5917\n",
              "LONGITUDE                        5917\n",
              "LOCATION                         5917\n",
              "ON STREET NAME                    569\n",
              "CROSS STREET NAME                3148\n",
              "OFF STREET NAME                  5348\n",
              "NUMBER OF PERSONS INJURED           0\n",
              "NUMBER OF PERSONS KILLED            0\n",
              "NUMBER OF PEDESTRIANS INJURED       0\n",
              "NUMBER OF PEDESTRIANS KILLED        0\n",
              "NUMBER OF CYCLIST INJURED           0\n",
              "NUMBER OF CYCLIST KILLED            0\n",
              "NUMBER OF MOTORIST INJURED          0\n",
              "NUMBER OF MOTORIST KILLED           0\n",
              "CONTRIBUTING FACTOR VEHICLE 1       2\n",
              "CONTRIBUTING FACTOR VEHICLE 2    1152\n",
              "CONTRIBUTING FACTOR VEHICLE 3    5352\n",
              "CONTRIBUTING FACTOR VEHICLE 4    5770\n",
              "CONTRIBUTING FACTOR VEHICLE 5    5883\n",
              "COLLISION_ID                        0\n",
              "VEHICLE TYPE CODE 1                 0\n",
              "VEHICLE TYPE CODE 2              1435\n",
              "VEHICLE TYPE CODE 3              5378\n",
              "VEHICLE TYPE CODE 4              5775\n",
              "VEHICLE TYPE CODE 5              5885\n",
              "dtype: int64"
            ]
          },
          "metadata": {},
          "execution_count": 11
        }
      ],
      "source": [
        "# checking if the location, latittude ans longitude have the same records \n",
        "#with missing values\n",
        "df[df['LATITUDE'].isnull()].isna().sum()"
      ]
    },
    {
      "cell_type": "code",
      "execution_count": null,
      "metadata": {
        "colab": {
          "base_uri": "https://localhost:8080/"
        },
        "id": "vmgSCs55nyZW",
        "outputId": "e48af6c9-b9a4-4960-95ef-f145d337dcff"
      },
      "outputs": [
        {
          "output_type": "execute_result",
          "data": {
            "text/plain": [
              "CRASH DATE                       0.0\n",
              "CRASH TIME                       0.0\n",
              "BOROUGH                          0.0\n",
              "ZIP CODE                         0.0\n",
              "LATITUDE                         0.0\n",
              "LONGITUDE                        0.0\n",
              "LOCATION                         0.0\n",
              "ON STREET NAME                   0.0\n",
              "CROSS STREET NAME                0.0\n",
              "OFF STREET NAME                  0.0\n",
              "NUMBER OF PERSONS INJURED        0.0\n",
              "NUMBER OF PERSONS KILLED         0.0\n",
              "NUMBER OF PEDESTRIANS INJURED    0.0\n",
              "NUMBER OF PEDESTRIANS KILLED     0.0\n",
              "NUMBER OF CYCLIST INJURED        0.0\n",
              "NUMBER OF CYCLIST KILLED         0.0\n",
              "NUMBER OF MOTORIST INJURED       0.0\n",
              "NUMBER OF MOTORIST KILLED        0.0\n",
              "CONTRIBUTING FACTOR VEHICLE 1    0.0\n",
              "CONTRIBUTING FACTOR VEHICLE 2    0.0\n",
              "CONTRIBUTING FACTOR VEHICLE 3    0.0\n",
              "CONTRIBUTING FACTOR VEHICLE 4    0.0\n",
              "CONTRIBUTING FACTOR VEHICLE 5    0.0\n",
              "COLLISION_ID                     0.0\n",
              "VEHICLE TYPE CODE 1              0.0\n",
              "VEHICLE TYPE CODE 2              0.0\n",
              "VEHICLE TYPE CODE 3              0.0\n",
              "VEHICLE TYPE CODE 4              0.0\n",
              "VEHICLE TYPE CODE 5              0.0\n",
              "dtype: float64"
            ]
          },
          "metadata": {},
          "execution_count": 12
        }
      ],
      "source": [
        "#dropping records with missing latitude and longitude\n",
        "df = df.dropna(how='all', subset=[\"LATITUDE\"])\n",
        "\n",
        "#checking if records were dropped\n",
        "df[df['LATITUDE'].isnull()].isna().sum()"
      ]
    },
    {
      "cell_type": "code",
      "execution_count": null,
      "metadata": {
        "colab": {
          "base_uri": "https://localhost:8080/",
          "height": 206
        },
        "id": "v2W8iY0DhZEB",
        "outputId": "9e24b05a-197b-4cb9-a33d-ba286d3a396b"
      },
      "outputs": [
        {
          "output_type": "execute_result",
          "data": {
            "text/plain": [
              "                Location\n",
              "0   40.65499, -73.829834\n",
              "1   40.729553, -73.91188\n",
              "2    40.736652, -73.9079\n",
              "3     40.71713, -73.7986\n",
              "4  40.712532, -74.007675"
            ],
            "text/html": [
              "\n",
              "  <div id=\"df-545a6b0d-c1c0-42a5-a78c-dfaa3d10cb59\">\n",
              "    <div class=\"colab-df-container\">\n",
              "      <div>\n",
              "<style scoped>\n",
              "    .dataframe tbody tr th:only-of-type {\n",
              "        vertical-align: middle;\n",
              "    }\n",
              "\n",
              "    .dataframe tbody tr th {\n",
              "        vertical-align: top;\n",
              "    }\n",
              "\n",
              "    .dataframe thead th {\n",
              "        text-align: right;\n",
              "    }\n",
              "</style>\n",
              "<table border=\"1\" class=\"dataframe\">\n",
              "  <thead>\n",
              "    <tr style=\"text-align: right;\">\n",
              "      <th></th>\n",
              "      <th>Location</th>\n",
              "    </tr>\n",
              "  </thead>\n",
              "  <tbody>\n",
              "    <tr>\n",
              "      <th>0</th>\n",
              "      <td>40.65499, -73.829834</td>\n",
              "    </tr>\n",
              "    <tr>\n",
              "      <th>1</th>\n",
              "      <td>40.729553, -73.91188</td>\n",
              "    </tr>\n",
              "    <tr>\n",
              "      <th>2</th>\n",
              "      <td>40.736652, -73.9079</td>\n",
              "    </tr>\n",
              "    <tr>\n",
              "      <th>3</th>\n",
              "      <td>40.71713, -73.7986</td>\n",
              "    </tr>\n",
              "    <tr>\n",
              "      <th>4</th>\n",
              "      <td>40.712532, -74.007675</td>\n",
              "    </tr>\n",
              "  </tbody>\n",
              "</table>\n",
              "</div>\n",
              "      <button class=\"colab-df-convert\" onclick=\"convertToInteractive('df-545a6b0d-c1c0-42a5-a78c-dfaa3d10cb59')\"\n",
              "              title=\"Convert this dataframe to an interactive table.\"\n",
              "              style=\"display:none;\">\n",
              "        \n",
              "  <svg xmlns=\"http://www.w3.org/2000/svg\" height=\"24px\"viewBox=\"0 0 24 24\"\n",
              "       width=\"24px\">\n",
              "    <path d=\"M0 0h24v24H0V0z\" fill=\"none\"/>\n",
              "    <path d=\"M18.56 5.44l.94 2.06.94-2.06 2.06-.94-2.06-.94-.94-2.06-.94 2.06-2.06.94zm-11 1L8.5 8.5l.94-2.06 2.06-.94-2.06-.94L8.5 2.5l-.94 2.06-2.06.94zm10 10l.94 2.06.94-2.06 2.06-.94-2.06-.94-.94-2.06-.94 2.06-2.06.94z\"/><path d=\"M17.41 7.96l-1.37-1.37c-.4-.4-.92-.59-1.43-.59-.52 0-1.04.2-1.43.59L10.3 9.45l-7.72 7.72c-.78.78-.78 2.05 0 2.83L4 21.41c.39.39.9.59 1.41.59.51 0 1.02-.2 1.41-.59l7.78-7.78 2.81-2.81c.8-.78.8-2.07 0-2.86zM5.41 20L4 18.59l7.72-7.72 1.47 1.35L5.41 20z\"/>\n",
              "  </svg>\n",
              "      </button>\n",
              "      \n",
              "  <style>\n",
              "    .colab-df-container {\n",
              "      display:flex;\n",
              "      flex-wrap:wrap;\n",
              "      gap: 12px;\n",
              "    }\n",
              "\n",
              "    .colab-df-convert {\n",
              "      background-color: #E8F0FE;\n",
              "      border: none;\n",
              "      border-radius: 50%;\n",
              "      cursor: pointer;\n",
              "      display: none;\n",
              "      fill: #1967D2;\n",
              "      height: 32px;\n",
              "      padding: 0 0 0 0;\n",
              "      width: 32px;\n",
              "    }\n",
              "\n",
              "    .colab-df-convert:hover {\n",
              "      background-color: #E2EBFA;\n",
              "      box-shadow: 0px 1px 2px rgba(60, 64, 67, 0.3), 0px 1px 3px 1px rgba(60, 64, 67, 0.15);\n",
              "      fill: #174EA6;\n",
              "    }\n",
              "\n",
              "    [theme=dark] .colab-df-convert {\n",
              "      background-color: #3B4455;\n",
              "      fill: #D2E3FC;\n",
              "    }\n",
              "\n",
              "    [theme=dark] .colab-df-convert:hover {\n",
              "      background-color: #434B5C;\n",
              "      box-shadow: 0px 1px 3px 1px rgba(0, 0, 0, 0.15);\n",
              "      filter: drop-shadow(0px 1px 2px rgba(0, 0, 0, 0.3));\n",
              "      fill: #FFFFFF;\n",
              "    }\n",
              "  </style>\n",
              "\n",
              "      <script>\n",
              "        const buttonEl =\n",
              "          document.querySelector('#df-545a6b0d-c1c0-42a5-a78c-dfaa3d10cb59 button.colab-df-convert');\n",
              "        buttonEl.style.display =\n",
              "          google.colab.kernel.accessAllowed ? 'block' : 'none';\n",
              "\n",
              "        async function convertToInteractive(key) {\n",
              "          const element = document.querySelector('#df-545a6b0d-c1c0-42a5-a78c-dfaa3d10cb59');\n",
              "          const dataTable =\n",
              "            await google.colab.kernel.invokeFunction('convertToInteractive',\n",
              "                                                     [key], {});\n",
              "          if (!dataTable) return;\n",
              "\n",
              "          const docLinkHtml = 'Like what you see? Visit the ' +\n",
              "            '<a target=\"_blank\" href=https://colab.research.google.com/notebooks/data_table.ipynb>data table notebook</a>'\n",
              "            + ' to learn more about interactive tables.';\n",
              "          element.innerHTML = '';\n",
              "          dataTable['output_type'] = 'display_data';\n",
              "          await google.colab.output.renderOutput(dataTable, element);\n",
              "          const docLink = document.createElement('div');\n",
              "          docLink.innerHTML = docLinkHtml;\n",
              "          element.appendChild(docLink);\n",
              "        }\n",
              "      </script>\n",
              "    </div>\n",
              "  </div>\n",
              "  "
            ]
          },
          "metadata": {},
          "execution_count": 13
        }
      ],
      "source": [
        "#getting the list of latitude and longitude for missing Borough values\n",
        "joined_column = df[df['BOROUGH'].isnull()& df['LATITUDE'].notnull()].apply(lambda x: str(x[\"LATITUDE\"]) + \", \" + str(x[\"LONGITUDE\"]), axis=1).to_list()\n",
        "\n",
        "#removing duplicates from the list\n",
        "joined_column = list(set(joined_column))\n",
        "\n",
        "#changing to a datframe\n",
        "joined_column = pd.DataFrame(list(set(joined_column)))\n",
        "\n",
        "\n",
        "# Renaming column\n",
        "joined_column.columns = ['Location']\n",
        "joined_column.head()"
      ]
    },
    {
      "cell_type": "code",
      "execution_count": null,
      "metadata": {
        "colab": {
          "base_uri": "https://localhost:8080/",
          "height": 206
        },
        "id": "30tlmH-gSETl",
        "outputId": "e4cdd1c6-6478-4aae-f11c-cea48a046bac"
      },
      "outputs": [
        {
          "output_type": "execute_result",
          "data": {
            "text/plain": [
              "               Location\n",
              "0  40.69271, -73.894905\n",
              "1  40.601147, -73.98413\n",
              "2  40.769337, -73.95488\n",
              "3   40.67575, -73.73476\n",
              "4  40.886765, -73.86104"
            ],
            "text/html": [
              "\n",
              "  <div id=\"df-8fe11844-7250-459e-8df4-ef79701865f7\">\n",
              "    <div class=\"colab-df-container\">\n",
              "      <div>\n",
              "<style scoped>\n",
              "    .dataframe tbody tr th:only-of-type {\n",
              "        vertical-align: middle;\n",
              "    }\n",
              "\n",
              "    .dataframe tbody tr th {\n",
              "        vertical-align: top;\n",
              "    }\n",
              "\n",
              "    .dataframe thead th {\n",
              "        text-align: right;\n",
              "    }\n",
              "</style>\n",
              "<table border=\"1\" class=\"dataframe\">\n",
              "  <thead>\n",
              "    <tr style=\"text-align: right;\">\n",
              "      <th></th>\n",
              "      <th>Location</th>\n",
              "    </tr>\n",
              "  </thead>\n",
              "  <tbody>\n",
              "    <tr>\n",
              "      <th>0</th>\n",
              "      <td>40.69271, -73.894905</td>\n",
              "    </tr>\n",
              "    <tr>\n",
              "      <th>1</th>\n",
              "      <td>40.601147, -73.98413</td>\n",
              "    </tr>\n",
              "    <tr>\n",
              "      <th>2</th>\n",
              "      <td>40.769337, -73.95488</td>\n",
              "    </tr>\n",
              "    <tr>\n",
              "      <th>3</th>\n",
              "      <td>40.67575, -73.73476</td>\n",
              "    </tr>\n",
              "    <tr>\n",
              "      <th>4</th>\n",
              "      <td>40.886765, -73.86104</td>\n",
              "    </tr>\n",
              "  </tbody>\n",
              "</table>\n",
              "</div>\n",
              "      <button class=\"colab-df-convert\" onclick=\"convertToInteractive('df-8fe11844-7250-459e-8df4-ef79701865f7')\"\n",
              "              title=\"Convert this dataframe to an interactive table.\"\n",
              "              style=\"display:none;\">\n",
              "        \n",
              "  <svg xmlns=\"http://www.w3.org/2000/svg\" height=\"24px\"viewBox=\"0 0 24 24\"\n",
              "       width=\"24px\">\n",
              "    <path d=\"M0 0h24v24H0V0z\" fill=\"none\"/>\n",
              "    <path d=\"M18.56 5.44l.94 2.06.94-2.06 2.06-.94-2.06-.94-.94-2.06-.94 2.06-2.06.94zm-11 1L8.5 8.5l.94-2.06 2.06-.94-2.06-.94L8.5 2.5l-.94 2.06-2.06.94zm10 10l.94 2.06.94-2.06 2.06-.94-2.06-.94-.94-2.06-.94 2.06-2.06.94z\"/><path d=\"M17.41 7.96l-1.37-1.37c-.4-.4-.92-.59-1.43-.59-.52 0-1.04.2-1.43.59L10.3 9.45l-7.72 7.72c-.78.78-.78 2.05 0 2.83L4 21.41c.39.39.9.59 1.41.59.51 0 1.02-.2 1.41-.59l7.78-7.78 2.81-2.81c.8-.78.8-2.07 0-2.86zM5.41 20L4 18.59l7.72-7.72 1.47 1.35L5.41 20z\"/>\n",
              "  </svg>\n",
              "      </button>\n",
              "      \n",
              "  <style>\n",
              "    .colab-df-container {\n",
              "      display:flex;\n",
              "      flex-wrap:wrap;\n",
              "      gap: 12px;\n",
              "    }\n",
              "\n",
              "    .colab-df-convert {\n",
              "      background-color: #E8F0FE;\n",
              "      border: none;\n",
              "      border-radius: 50%;\n",
              "      cursor: pointer;\n",
              "      display: none;\n",
              "      fill: #1967D2;\n",
              "      height: 32px;\n",
              "      padding: 0 0 0 0;\n",
              "      width: 32px;\n",
              "    }\n",
              "\n",
              "    .colab-df-convert:hover {\n",
              "      background-color: #E2EBFA;\n",
              "      box-shadow: 0px 1px 2px rgba(60, 64, 67, 0.3), 0px 1px 3px 1px rgba(60, 64, 67, 0.15);\n",
              "      fill: #174EA6;\n",
              "    }\n",
              "\n",
              "    [theme=dark] .colab-df-convert {\n",
              "      background-color: #3B4455;\n",
              "      fill: #D2E3FC;\n",
              "    }\n",
              "\n",
              "    [theme=dark] .colab-df-convert:hover {\n",
              "      background-color: #434B5C;\n",
              "      box-shadow: 0px 1px 3px 1px rgba(0, 0, 0, 0.15);\n",
              "      filter: drop-shadow(0px 1px 2px rgba(0, 0, 0, 0.3));\n",
              "      fill: #FFFFFF;\n",
              "    }\n",
              "  </style>\n",
              "\n",
              "      <script>\n",
              "        const buttonEl =\n",
              "          document.querySelector('#df-8fe11844-7250-459e-8df4-ef79701865f7 button.colab-df-convert');\n",
              "        buttonEl.style.display =\n",
              "          google.colab.kernel.accessAllowed ? 'block' : 'none';\n",
              "\n",
              "        async function convertToInteractive(key) {\n",
              "          const element = document.querySelector('#df-8fe11844-7250-459e-8df4-ef79701865f7');\n",
              "          const dataTable =\n",
              "            await google.colab.kernel.invokeFunction('convertToInteractive',\n",
              "                                                     [key], {});\n",
              "          if (!dataTable) return;\n",
              "\n",
              "          const docLinkHtml = 'Like what you see? Visit the ' +\n",
              "            '<a target=\"_blank\" href=https://colab.research.google.com/notebooks/data_table.ipynb>data table notebook</a>'\n",
              "            + ' to learn more about interactive tables.';\n",
              "          element.innerHTML = '';\n",
              "          dataTable['output_type'] = 'display_data';\n",
              "          await google.colab.output.renderOutput(dataTable, element);\n",
              "          const docLink = document.createElement('div');\n",
              "          docLink.innerHTML = docLinkHtml;\n",
              "          element.appendChild(docLink);\n",
              "        }\n",
              "      </script>\n",
              "    </div>\n",
              "  </div>\n",
              "  "
            ]
          },
          "metadata": {},
          "execution_count": 14
        }
      ],
      "source": [
        "#getting the list of latitude and longitude for missing ONStreet values\n",
        "on_street = df[df['ON STREET NAME'].isnull()& df['LATITUDE'].notnull()].apply(lambda x: str(x[\"LATITUDE\"]) + \", \" + str(x[\"LONGITUDE\"]), axis=1).to_list()\n",
        "\n",
        "#removing duplicates\n",
        "on_street = pd.DataFrame(list(set(on_street)))\n",
        "\n",
        "\n",
        "# Rename column 'A' to 'X'\n",
        "on_street.columns = ['Location']\n",
        "on_street.head()"
      ]
    },
    {
      "cell_type": "code",
      "execution_count": null,
      "metadata": {
        "colab": {
          "base_uri": "https://localhost:8080/",
          "height": 206
        },
        "id": "MUPJdy6ow4P_",
        "outputId": "8e7e91df-05eb-4900-8030-3826a212149e"
      },
      "outputs": [
        {
          "output_type": "execute_result",
          "data": {
            "text/plain": [
              "                Location\n",
              "0   40.65499, -73.829834\n",
              "1   40.729553, -73.91188\n",
              "2    40.736652, -73.9079\n",
              "3     40.71713, -73.7986\n",
              "4  40.712532, -74.007675"
            ],
            "text/html": [
              "\n",
              "  <div id=\"df-492622fe-ed1e-4b45-a77f-f9b361dcf960\">\n",
              "    <div class=\"colab-df-container\">\n",
              "      <div>\n",
              "<style scoped>\n",
              "    .dataframe tbody tr th:only-of-type {\n",
              "        vertical-align: middle;\n",
              "    }\n",
              "\n",
              "    .dataframe tbody tr th {\n",
              "        vertical-align: top;\n",
              "    }\n",
              "\n",
              "    .dataframe thead th {\n",
              "        text-align: right;\n",
              "    }\n",
              "</style>\n",
              "<table border=\"1\" class=\"dataframe\">\n",
              "  <thead>\n",
              "    <tr style=\"text-align: right;\">\n",
              "      <th></th>\n",
              "      <th>Location</th>\n",
              "    </tr>\n",
              "  </thead>\n",
              "  <tbody>\n",
              "    <tr>\n",
              "      <th>0</th>\n",
              "      <td>40.65499, -73.829834</td>\n",
              "    </tr>\n",
              "    <tr>\n",
              "      <th>1</th>\n",
              "      <td>40.729553, -73.91188</td>\n",
              "    </tr>\n",
              "    <tr>\n",
              "      <th>2</th>\n",
              "      <td>40.736652, -73.9079</td>\n",
              "    </tr>\n",
              "    <tr>\n",
              "      <th>3</th>\n",
              "      <td>40.71713, -73.7986</td>\n",
              "    </tr>\n",
              "    <tr>\n",
              "      <th>4</th>\n",
              "      <td>40.712532, -74.007675</td>\n",
              "    </tr>\n",
              "  </tbody>\n",
              "</table>\n",
              "</div>\n",
              "      <button class=\"colab-df-convert\" onclick=\"convertToInteractive('df-492622fe-ed1e-4b45-a77f-f9b361dcf960')\"\n",
              "              title=\"Convert this dataframe to an interactive table.\"\n",
              "              style=\"display:none;\">\n",
              "        \n",
              "  <svg xmlns=\"http://www.w3.org/2000/svg\" height=\"24px\"viewBox=\"0 0 24 24\"\n",
              "       width=\"24px\">\n",
              "    <path d=\"M0 0h24v24H0V0z\" fill=\"none\"/>\n",
              "    <path d=\"M18.56 5.44l.94 2.06.94-2.06 2.06-.94-2.06-.94-.94-2.06-.94 2.06-2.06.94zm-11 1L8.5 8.5l.94-2.06 2.06-.94-2.06-.94L8.5 2.5l-.94 2.06-2.06.94zm10 10l.94 2.06.94-2.06 2.06-.94-2.06-.94-.94-2.06-.94 2.06-2.06.94z\"/><path d=\"M17.41 7.96l-1.37-1.37c-.4-.4-.92-.59-1.43-.59-.52 0-1.04.2-1.43.59L10.3 9.45l-7.72 7.72c-.78.78-.78 2.05 0 2.83L4 21.41c.39.39.9.59 1.41.59.51 0 1.02-.2 1.41-.59l7.78-7.78 2.81-2.81c.8-.78.8-2.07 0-2.86zM5.41 20L4 18.59l7.72-7.72 1.47 1.35L5.41 20z\"/>\n",
              "  </svg>\n",
              "      </button>\n",
              "      \n",
              "  <style>\n",
              "    .colab-df-container {\n",
              "      display:flex;\n",
              "      flex-wrap:wrap;\n",
              "      gap: 12px;\n",
              "    }\n",
              "\n",
              "    .colab-df-convert {\n",
              "      background-color: #E8F0FE;\n",
              "      border: none;\n",
              "      border-radius: 50%;\n",
              "      cursor: pointer;\n",
              "      display: none;\n",
              "      fill: #1967D2;\n",
              "      height: 32px;\n",
              "      padding: 0 0 0 0;\n",
              "      width: 32px;\n",
              "    }\n",
              "\n",
              "    .colab-df-convert:hover {\n",
              "      background-color: #E2EBFA;\n",
              "      box-shadow: 0px 1px 2px rgba(60, 64, 67, 0.3), 0px 1px 3px 1px rgba(60, 64, 67, 0.15);\n",
              "      fill: #174EA6;\n",
              "    }\n",
              "\n",
              "    [theme=dark] .colab-df-convert {\n",
              "      background-color: #3B4455;\n",
              "      fill: #D2E3FC;\n",
              "    }\n",
              "\n",
              "    [theme=dark] .colab-df-convert:hover {\n",
              "      background-color: #434B5C;\n",
              "      box-shadow: 0px 1px 3px 1px rgba(0, 0, 0, 0.15);\n",
              "      filter: drop-shadow(0px 1px 2px rgba(0, 0, 0, 0.3));\n",
              "      fill: #FFFFFF;\n",
              "    }\n",
              "  </style>\n",
              "\n",
              "      <script>\n",
              "        const buttonEl =\n",
              "          document.querySelector('#df-492622fe-ed1e-4b45-a77f-f9b361dcf960 button.colab-df-convert');\n",
              "        buttonEl.style.display =\n",
              "          google.colab.kernel.accessAllowed ? 'block' : 'none';\n",
              "\n",
              "        async function convertToInteractive(key) {\n",
              "          const element = document.querySelector('#df-492622fe-ed1e-4b45-a77f-f9b361dcf960');\n",
              "          const dataTable =\n",
              "            await google.colab.kernel.invokeFunction('convertToInteractive',\n",
              "                                                     [key], {});\n",
              "          if (!dataTable) return;\n",
              "\n",
              "          const docLinkHtml = 'Like what you see? Visit the ' +\n",
              "            '<a target=\"_blank\" href=https://colab.research.google.com/notebooks/data_table.ipynb>data table notebook</a>'\n",
              "            + ' to learn more about interactive tables.';\n",
              "          element.innerHTML = '';\n",
              "          dataTable['output_type'] = 'display_data';\n",
              "          await google.colab.output.renderOutput(dataTable, element);\n",
              "          const docLink = document.createElement('div');\n",
              "          docLink.innerHTML = docLinkHtml;\n",
              "          element.appendChild(docLink);\n",
              "        }\n",
              "      </script>\n",
              "    </div>\n",
              "  </div>\n",
              "  "
            ]
          },
          "metadata": {},
          "execution_count": 15
        }
      ],
      "source": [
        "# Join the dataframes based on the 'Location' column\n",
        "miss_rec = pd.concat([joined_column, on_street]).drop_duplicates().reset_index(drop=True)\n",
        "\n",
        "miss_rec.head()"
      ]
    },
    {
      "cell_type": "code",
      "execution_count": null,
      "metadata": {
        "id": "7bJKl_VnfHJM"
      },
      "outputs": [],
      "source": [
        "# Initialize geolocator object\n",
        "geolocator = Nominatim(user_agent='my_app', timeout=10)\n",
        "tqdm.pandas()\n",
        "revgeo = RateLimiter(geolocator.reverse, min_delay_seconds=0.001)"
      ]
    },
    {
      "cell_type": "code",
      "execution_count": null,
      "metadata": {
        "colab": {
          "base_uri": "https://localhost:8080/",
          "height": 1000,
          "referenced_widgets": [
            "2a1dcc57cd894ad1a6a004ebbfba4d48",
            "878b8d160f63411190a1e195c719934f",
            "b274f54c9d744e669658385fc19e2b29",
            "29e20e7cf53945688f208fe30d0b814c",
            "028d5786348d4706888796d00e6ff982",
            "00a8bc9888e24839b735a3ea23c7789c",
            "3a4d00151aee4d18b911b2ed44f3eb8d",
            "3afad59f49a3412180079b05d9f9deb6",
            "32fcaf658dbd4f0a90597eb154d3479f",
            "79cd926d60784f4384599c4d209372e8",
            "8cb31bdf2a5f4abcaa17d85888036676"
          ]
        },
        "id": "XX_aGEXAzKzF",
        "outputId": "2c660bc5-7396-42ad-9e65-beaa8e940367"
      },
      "outputs": [
        {
          "output_type": "display_data",
          "data": {
            "text/plain": [
              "  0%|          | 0/25861 [00:00<?, ?it/s]"
            ],
            "application/vnd.jupyter.widget-view+json": {
              "version_major": 2,
              "version_minor": 0,
              "model_id": "2a1dcc57cd894ad1a6a004ebbfba4d48"
            }
          },
          "metadata": {}
        },
        {
          "output_type": "stream",
          "name": "stderr",
          "text": [
            "WARNING:geopy:RateLimiter caught an error, retrying (0/2 tries). Called with (*('40.753536, -73.88405',), **{}).\n",
            "Traceback (most recent call last):\n",
            "  File \"/usr/local/lib/python3.8/dist-packages/geopy/geocoders/base.py\", line 344, in _call_geocoder\n",
            "    page = requester(req, timeout=timeout, **kwargs)\n",
            "  File \"/usr/lib/python3.8/urllib/request.py\", line 531, in open\n",
            "    response = meth(req, response)\n",
            "  File \"/usr/lib/python3.8/urllib/request.py\", line 640, in http_response\n",
            "    response = self.parent.error(\n",
            "  File \"/usr/lib/python3.8/urllib/request.py\", line 569, in error\n",
            "    return self._call_chain(*args)\n",
            "  File \"/usr/lib/python3.8/urllib/request.py\", line 502, in _call_chain\n",
            "    result = func(*args)\n",
            "  File \"/usr/lib/python3.8/urllib/request.py\", line 649, in http_error_default\n",
            "    raise HTTPError(req.full_url, code, msg, hdrs, fp)\n",
            "urllib.error.HTTPError: HTTP Error 502: Bad Gateway\n",
            "\n",
            "During handling of the above exception, another exception occurred:\n",
            "\n",
            "Traceback (most recent call last):\n",
            "  File \"/usr/local/lib/python3.8/dist-packages/geopy/extra/rate_limiter.py\", line 130, in __call__\n",
            "    return self.func(*args, **kwargs)\n",
            "  File \"/usr/local/lib/python3.8/dist-packages/geopy/geocoders/osm.py\", line 369, in reverse\n",
            "    self._call_geocoder(url, timeout=timeout), exactly_one\n",
            "  File \"/usr/local/lib/python3.8/dist-packages/geopy/geocoders/base.py\", line 362, in _call_geocoder\n",
            "    raise ERROR_CODE_MAP[code](message)\n",
            "geopy.exc.GeocoderServiceError: HTTP Error 502: Bad Gateway\n",
            "WARNING:geopy:RateLimiter caught an error, retrying (0/2 tries). Called with (*('40.671703, -73.91888',), **{}).\n",
            "Traceback (most recent call last):\n",
            "  File \"/usr/local/lib/python3.8/dist-packages/geopy/geocoders/base.py\", line 344, in _call_geocoder\n",
            "    page = requester(req, timeout=timeout, **kwargs)\n",
            "  File \"/usr/lib/python3.8/urllib/request.py\", line 531, in open\n",
            "    response = meth(req, response)\n",
            "  File \"/usr/lib/python3.8/urllib/request.py\", line 640, in http_response\n",
            "    response = self.parent.error(\n",
            "  File \"/usr/lib/python3.8/urllib/request.py\", line 569, in error\n",
            "    return self._call_chain(*args)\n",
            "  File \"/usr/lib/python3.8/urllib/request.py\", line 502, in _call_chain\n",
            "    result = func(*args)\n",
            "  File \"/usr/lib/python3.8/urllib/request.py\", line 649, in http_error_default\n",
            "    raise HTTPError(req.full_url, code, msg, hdrs, fp)\n",
            "urllib.error.HTTPError: HTTP Error 502: Bad Gateway\n",
            "\n",
            "During handling of the above exception, another exception occurred:\n",
            "\n",
            "Traceback (most recent call last):\n",
            "  File \"/usr/local/lib/python3.8/dist-packages/geopy/extra/rate_limiter.py\", line 130, in __call__\n",
            "    return self.func(*args, **kwargs)\n",
            "  File \"/usr/local/lib/python3.8/dist-packages/geopy/geocoders/osm.py\", line 369, in reverse\n",
            "    self._call_geocoder(url, timeout=timeout), exactly_one\n",
            "  File \"/usr/local/lib/python3.8/dist-packages/geopy/geocoders/base.py\", line 362, in _call_geocoder\n",
            "    raise ERROR_CODE_MAP[code](message)\n",
            "geopy.exc.GeocoderServiceError: HTTP Error 502: Bad Gateway\n",
            "WARNING:geopy:RateLimiter caught an error, retrying (0/2 tries). Called with (*('40.822594, -73.90269',), **{}).\n",
            "Traceback (most recent call last):\n",
            "  File \"/usr/local/lib/python3.8/dist-packages/geopy/geocoders/base.py\", line 344, in _call_geocoder\n",
            "    page = requester(req, timeout=timeout, **kwargs)\n",
            "  File \"/usr/lib/python3.8/urllib/request.py\", line 531, in open\n",
            "    response = meth(req, response)\n",
            "  File \"/usr/lib/python3.8/urllib/request.py\", line 640, in http_response\n",
            "    response = self.parent.error(\n",
            "  File \"/usr/lib/python3.8/urllib/request.py\", line 569, in error\n",
            "    return self._call_chain(*args)\n",
            "  File \"/usr/lib/python3.8/urllib/request.py\", line 502, in _call_chain\n",
            "    result = func(*args)\n",
            "  File \"/usr/lib/python3.8/urllib/request.py\", line 649, in http_error_default\n",
            "    raise HTTPError(req.full_url, code, msg, hdrs, fp)\n",
            "urllib.error.HTTPError: HTTP Error 502: Bad Gateway\n",
            "\n",
            "During handling of the above exception, another exception occurred:\n",
            "\n",
            "Traceback (most recent call last):\n",
            "  File \"/usr/local/lib/python3.8/dist-packages/geopy/extra/rate_limiter.py\", line 130, in __call__\n",
            "    return self.func(*args, **kwargs)\n",
            "  File \"/usr/local/lib/python3.8/dist-packages/geopy/geocoders/osm.py\", line 369, in reverse\n",
            "    self._call_geocoder(url, timeout=timeout), exactly_one\n",
            "  File \"/usr/local/lib/python3.8/dist-packages/geopy/geocoders/base.py\", line 362, in _call_geocoder\n",
            "    raise ERROR_CODE_MAP[code](message)\n",
            "geopy.exc.GeocoderServiceError: HTTP Error 502: Bad Gateway\n"
          ]
        },
        {
          "output_type": "execute_result",
          "data": {
            "text/plain": [
              "                Location                                            address\n",
              "0   40.65499, -73.829834  (102-15, 1st Street, Hamilton Beach, Queens, C...\n",
              "1   40.729553, -73.91188  (54-25, 58th Street, Maspeth, Queens, City of ...\n",
              "2    40.736652, -73.9079  (Brooklyn-Queens Expressway, Queens County, Ci...\n",
              "3     40.71713, -73.7986  (Grand Central Parkway, Queens County, City of...\n",
              "4  40.712532, -74.007675  (Broadway, Tribeca, Manhattan, New York County..."
            ],
            "text/html": [
              "\n",
              "  <div id=\"df-a9379c51-45e4-40fb-b417-d0b937e2080b\">\n",
              "    <div class=\"colab-df-container\">\n",
              "      <div>\n",
              "<style scoped>\n",
              "    .dataframe tbody tr th:only-of-type {\n",
              "        vertical-align: middle;\n",
              "    }\n",
              "\n",
              "    .dataframe tbody tr th {\n",
              "        vertical-align: top;\n",
              "    }\n",
              "\n",
              "    .dataframe thead th {\n",
              "        text-align: right;\n",
              "    }\n",
              "</style>\n",
              "<table border=\"1\" class=\"dataframe\">\n",
              "  <thead>\n",
              "    <tr style=\"text-align: right;\">\n",
              "      <th></th>\n",
              "      <th>Location</th>\n",
              "      <th>address</th>\n",
              "    </tr>\n",
              "  </thead>\n",
              "  <tbody>\n",
              "    <tr>\n",
              "      <th>0</th>\n",
              "      <td>40.65499, -73.829834</td>\n",
              "      <td>(102-15, 1st Street, Hamilton Beach, Queens, C...</td>\n",
              "    </tr>\n",
              "    <tr>\n",
              "      <th>1</th>\n",
              "      <td>40.729553, -73.91188</td>\n",
              "      <td>(54-25, 58th Street, Maspeth, Queens, City of ...</td>\n",
              "    </tr>\n",
              "    <tr>\n",
              "      <th>2</th>\n",
              "      <td>40.736652, -73.9079</td>\n",
              "      <td>(Brooklyn-Queens Expressway, Queens County, Ci...</td>\n",
              "    </tr>\n",
              "    <tr>\n",
              "      <th>3</th>\n",
              "      <td>40.71713, -73.7986</td>\n",
              "      <td>(Grand Central Parkway, Queens County, City of...</td>\n",
              "    </tr>\n",
              "    <tr>\n",
              "      <th>4</th>\n",
              "      <td>40.712532, -74.007675</td>\n",
              "      <td>(Broadway, Tribeca, Manhattan, New York County...</td>\n",
              "    </tr>\n",
              "  </tbody>\n",
              "</table>\n",
              "</div>\n",
              "      <button class=\"colab-df-convert\" onclick=\"convertToInteractive('df-a9379c51-45e4-40fb-b417-d0b937e2080b')\"\n",
              "              title=\"Convert this dataframe to an interactive table.\"\n",
              "              style=\"display:none;\">\n",
              "        \n",
              "  <svg xmlns=\"http://www.w3.org/2000/svg\" height=\"24px\"viewBox=\"0 0 24 24\"\n",
              "       width=\"24px\">\n",
              "    <path d=\"M0 0h24v24H0V0z\" fill=\"none\"/>\n",
              "    <path d=\"M18.56 5.44l.94 2.06.94-2.06 2.06-.94-2.06-.94-.94-2.06-.94 2.06-2.06.94zm-11 1L8.5 8.5l.94-2.06 2.06-.94-2.06-.94L8.5 2.5l-.94 2.06-2.06.94zm10 10l.94 2.06.94-2.06 2.06-.94-2.06-.94-.94-2.06-.94 2.06-2.06.94z\"/><path d=\"M17.41 7.96l-1.37-1.37c-.4-.4-.92-.59-1.43-.59-.52 0-1.04.2-1.43.59L10.3 9.45l-7.72 7.72c-.78.78-.78 2.05 0 2.83L4 21.41c.39.39.9.59 1.41.59.51 0 1.02-.2 1.41-.59l7.78-7.78 2.81-2.81c.8-.78.8-2.07 0-2.86zM5.41 20L4 18.59l7.72-7.72 1.47 1.35L5.41 20z\"/>\n",
              "  </svg>\n",
              "      </button>\n",
              "      \n",
              "  <style>\n",
              "    .colab-df-container {\n",
              "      display:flex;\n",
              "      flex-wrap:wrap;\n",
              "      gap: 12px;\n",
              "    }\n",
              "\n",
              "    .colab-df-convert {\n",
              "      background-color: #E8F0FE;\n",
              "      border: none;\n",
              "      border-radius: 50%;\n",
              "      cursor: pointer;\n",
              "      display: none;\n",
              "      fill: #1967D2;\n",
              "      height: 32px;\n",
              "      padding: 0 0 0 0;\n",
              "      width: 32px;\n",
              "    }\n",
              "\n",
              "    .colab-df-convert:hover {\n",
              "      background-color: #E2EBFA;\n",
              "      box-shadow: 0px 1px 2px rgba(60, 64, 67, 0.3), 0px 1px 3px 1px rgba(60, 64, 67, 0.15);\n",
              "      fill: #174EA6;\n",
              "    }\n",
              "\n",
              "    [theme=dark] .colab-df-convert {\n",
              "      background-color: #3B4455;\n",
              "      fill: #D2E3FC;\n",
              "    }\n",
              "\n",
              "    [theme=dark] .colab-df-convert:hover {\n",
              "      background-color: #434B5C;\n",
              "      box-shadow: 0px 1px 3px 1px rgba(0, 0, 0, 0.15);\n",
              "      filter: drop-shadow(0px 1px 2px rgba(0, 0, 0, 0.3));\n",
              "      fill: #FFFFFF;\n",
              "    }\n",
              "  </style>\n",
              "\n",
              "      <script>\n",
              "        const buttonEl =\n",
              "          document.querySelector('#df-a9379c51-45e4-40fb-b417-d0b937e2080b button.colab-df-convert');\n",
              "        buttonEl.style.display =\n",
              "          google.colab.kernel.accessAllowed ? 'block' : 'none';\n",
              "\n",
              "        async function convertToInteractive(key) {\n",
              "          const element = document.querySelector('#df-a9379c51-45e4-40fb-b417-d0b937e2080b');\n",
              "          const dataTable =\n",
              "            await google.colab.kernel.invokeFunction('convertToInteractive',\n",
              "                                                     [key], {});\n",
              "          if (!dataTable) return;\n",
              "\n",
              "          const docLinkHtml = 'Like what you see? Visit the ' +\n",
              "            '<a target=\"_blank\" href=https://colab.research.google.com/notebooks/data_table.ipynb>data table notebook</a>'\n",
              "            + ' to learn more about interactive tables.';\n",
              "          element.innerHTML = '';\n",
              "          dataTable['output_type'] = 'display_data';\n",
              "          await google.colab.output.renderOutput(dataTable, element);\n",
              "          const docLink = document.createElement('div');\n",
              "          docLink.innerHTML = docLinkHtml;\n",
              "          element.appendChild(docLink);\n",
              "        }\n",
              "      </script>\n",
              "    </div>\n",
              "  </div>\n",
              "  "
            ]
          },
          "metadata": {},
          "execution_count": 17
        }
      ],
      "source": [
        "# Applyting the reverse geocoding method\n",
        "miss_rec['address'] = miss_rec['Location'].progress_apply(revgeo)\n",
        "\n",
        "miss_rec.head()"
      ]
    },
    {
      "cell_type": "code",
      "execution_count": null,
      "metadata": {
        "colab": {
          "base_uri": "https://localhost:8080/",
          "height": 34
        },
        "id": "KFOpeC6TuNfK",
        "outputId": "4c18f252-ac00-43d4-c1fd-b7c1f5750d59"
      },
      "outputs": [
        {
          "output_type": "display_data",
          "data": {
            "text/plain": [
              "<IPython.core.display.Javascript object>"
            ],
            "application/javascript": [
              "\n",
              "    async function download(id, filename, size) {\n",
              "      if (!google.colab.kernel.accessAllowed) {\n",
              "        return;\n",
              "      }\n",
              "      const div = document.createElement('div');\n",
              "      const label = document.createElement('label');\n",
              "      label.textContent = `Downloading \"${filename}\": `;\n",
              "      div.appendChild(label);\n",
              "      const progress = document.createElement('progress');\n",
              "      progress.max = size;\n",
              "      div.appendChild(progress);\n",
              "      document.body.appendChild(div);\n",
              "\n",
              "      const buffers = [];\n",
              "      let downloaded = 0;\n",
              "\n",
              "      const channel = await google.colab.kernel.comms.open(id);\n",
              "      // Send a message to notify the kernel that we're ready.\n",
              "      channel.send({})\n",
              "\n",
              "      for await (const message of channel.messages) {\n",
              "        // Send a message to notify the kernel that we're ready.\n",
              "        channel.send({})\n",
              "        if (message.buffers) {\n",
              "          for (const buffer of message.buffers) {\n",
              "            buffers.push(buffer);\n",
              "            downloaded += buffer.byteLength;\n",
              "            progress.value = downloaded;\n",
              "          }\n",
              "        }\n",
              "      }\n",
              "      const blob = new Blob(buffers, {type: 'application/binary'});\n",
              "      const a = document.createElement('a');\n",
              "      a.href = window.URL.createObjectURL(blob);\n",
              "      a.download = filename;\n",
              "      div.appendChild(a);\n",
              "      a.click();\n",
              "      div.remove();\n",
              "    }\n",
              "  "
            ]
          },
          "metadata": {}
        },
        {
          "output_type": "display_data",
          "data": {
            "text/plain": [
              "<IPython.core.display.Javascript object>"
            ],
            "application/javascript": [
              "download(\"download_8dab3051-7a0a-44ae-aaf9-4b608f753ea6\", \"miss_rec.csv\", 3381234)"
            ]
          },
          "metadata": {}
        }
      ],
      "source": [
        "from google.colab import files\n",
        "# Exporting the DataFrame to a CSV file\n",
        "miss_rec.to_csv('miss_rec.csv', index=False)\n",
        "files.download('miss_rec.csv')"
      ]
    },
    {
      "cell_type": "code",
      "execution_count": null,
      "metadata": {
        "id": "w4J3sQbPvfsW"
      },
      "outputs": [],
      "source": [
        "#all boroughs in New york\n",
        "bors = ['Bronx', 'Brooklyn', 'Queens', 'Manhattan', 'Staten Island']"
      ]
    },
    {
      "cell_type": "code",
      "execution_count": null,
      "metadata": {
        "id": "q4D0pA8De5LH"
      },
      "outputs": [],
      "source": [
        "# Split the 'address' column and extract the Borough, On street name and Zip code\n",
        "miss_rec[\"address\"] = miss_rec[\"address\"].apply(lambda x: str(x))"
      ]
    },
    {
      "cell_type": "code",
      "execution_count": null,
      "metadata": {
        "id": "FDDKq98Sc49c"
      },
      "outputs": [],
      "source": [
        "# Define a function to get Boroughs if they match a value in the list\n",
        "def replace_value(value):\n",
        "    for i in bors:\n",
        "      if i in value:\n",
        "        return i\n",
        "    else:\n",
        "        return 'unknown'"
      ]
    },
    {
      "cell_type": "code",
      "execution_count": null,
      "metadata": {
        "colab": {
          "base_uri": "https://localhost:8080/"
        },
        "id": "4R__zrZ2dAHY",
        "outputId": "9cb580dd-a34e-419b-9ec1-66987dc7a9ec"
      },
      "outputs": [
        {
          "output_type": "execute_result",
          "data": {
            "text/plain": [
              "Brooklyn         8825\n",
              "Queens           6776\n",
              "Bronx            4710\n",
              "Manhattan        3955\n",
              "Staten Island    1125\n",
              "unknown           470\n",
              "Name: Borough, dtype: int64"
            ]
          },
          "metadata": {},
          "execution_count": 39
        }
      ],
      "source": [
        "# Apply the function to the address column\n",
        "miss_rec['Borough'] = miss_rec['address'].apply(replace_value)\n",
        "\n",
        "#Getting 'On Street name' from the address\n",
        "miss_rec[\"ON STREET\"] = miss_rec[\"address\"].apply(lambda x: str(x).split(\", \")[1] if (x and \", \" in x) else \"\")\n",
        "\n",
        "#Getting 'Zip Code' from the address\n",
        "miss_rec[\"Zip Code\"] = miss_rec[\"address\"].apply(lambda x: str(x).split(\", \")[-2] if (x and \", \" in x) else \"\")\n",
        "\n",
        "#Location\n",
        "miss_rec[\"LOCATION\"] = miss_rec[\"Location\"].apply(lambda x: \"POINT (\" + str(x).split(\", \")[-1] + \" \" + str(x).split(\", \")[0] + \")\" if (x and \", \" in x) else \"\" )\n",
        "\n",
        "miss_rec.Borough.value_counts()"
      ]
    },
    {
      "cell_type": "code",
      "execution_count": null,
      "metadata": {
        "id": "4eKr8pZ5F_TB"
      },
      "outputs": [],
      "source": [
        "# Merge the two DataFrames on the ID column and replace missing values in df1 with values from df2\n",
        "df_merge = pd.merge(df, miss_rec, on='LOCATION', how='left')\n",
        "\n",
        "\n",
        "df_merge['BOROUGH'].fillna(df_merge['Borough'], inplace=True)\n",
        "df_merge['ZIP CODE'].fillna(df_merge['Zip Code'], inplace=True)\n",
        "df_merge['ON STREET NAME'].fillna(df_merge['ON STREET'], inplace=True)\n",
        "\n",
        "# The resulting DataFrame with replaced missing values\n",
        "df_merge = df_merge.drop(['Location', 'address', \"Borough\", 'ON STREET', 'Zip Code'], axis=1)\n",
        "\n",
        "#removing unknown values for borough\n",
        "df_merge = df_merge[df_merge.BOROUGH != 'unknown']\n",
        "\n",
        "# Remove null values from column_name\n",
        "df_merge = df_merge.dropna(subset=['BOROUGH', 'ZIP CODE', 'ON STREET NAME'])\n",
        "df_merge.isna().sum()"
      ]
    },
    {
      "cell_type": "code",
      "execution_count": null,
      "metadata": {
        "id": "rMN_1L4vfg0U",
        "colab": {
          "base_uri": "https://localhost:8080/"
        },
        "outputId": "35acdcae-0c0f-4034-efdd-08a18214c5a4"
      },
      "outputs": [
        {
          "output_type": "execute_result",
          "data": {
            "text/plain": [
              "Sedan                                  31251\n",
              "Station Wagon/Sport Utility Vehicle    25178\n",
              "Taxi                                    2569\n",
              "Pick-up Truck                           1702\n",
              "Box Truck                               1287\n",
              "                                       ...  \n",
              "ELEC. UNIC                                 1\n",
              "DELIVERY T                                 1\n",
              "MTA BUS                                    1\n",
              "MECHANICAL                                 1\n",
              "TANK                                       1\n",
              "Name: VEHICLE TYPE CODE 1, Length: 255, dtype: int64"
            ]
          },
          "metadata": {},
          "execution_count": 41
        }
      ],
      "source": [
        "#Inspecting the values\n",
        "df_merge['VEHICLE TYPE CODE 1'].value_counts()"
      ]
    },
    {
      "cell_type": "code",
      "execution_count": null,
      "metadata": {
        "id": "NrmWMOuGfpvB",
        "colab": {
          "base_uri": "https://localhost:8080/"
        },
        "outputId": "f810ae9f-3ead-4afc-9d8f-fc4d7dc0d1b3"
      },
      "outputs": [
        {
          "output_type": "execute_result",
          "data": {
            "text/plain": [
              "Sedan                                  20671\n",
              "Station Wagon/Sport Utility Vehicle    16925\n",
              "Bike                                    2165\n",
              "Taxi                                    1524\n",
              "Box Truck                               1413\n",
              "                                       ...  \n",
              "Tree cutte                                 1\n",
              "Sanitation                                 1\n",
              "SCOOT                                      1\n",
              "UTILITY TR                                 1\n",
              "crane                                      1\n",
              "Name: VEHICLE TYPE CODE 2, Length: 273, dtype: int64"
            ]
          },
          "metadata": {},
          "execution_count": 42
        }
      ],
      "source": [
        "#Inspecting the values\n",
        "df_merge['VEHICLE TYPE CODE 2'].value_counts()"
      ]
    },
    {
      "cell_type": "code",
      "execution_count": null,
      "metadata": {
        "id": "yZdEIQmmfp7S",
        "colab": {
          "base_uri": "https://localhost:8080/"
        },
        "outputId": "5ead4b99-cf9c-4ff9-ebfa-5810b50a3d93"
      },
      "outputs": [
        {
          "output_type": "execute_result",
          "data": {
            "text/plain": [
              "Sedan                                  2825\n",
              "Station Wagon/Sport Utility Vehicle    2439\n",
              "Pick-up Truck                           136\n",
              "Taxi                                    121\n",
              "Box Truck                                63\n",
              "Bus                                      29\n",
              "Bike                                     28\n",
              "Van                                      25\n",
              "Tractor Truck Diesel                     24\n",
              "Motorcycle                               18\n",
              "Convertible                              18\n",
              "4 dr sedan                                9\n",
              "PK                                        7\n",
              "Flat Bed                                  6\n",
              "E-Scooter                                 6\n",
              "Dump                                      5\n",
              "E-Bike                                    4\n",
              "Tow Truck / Wrecker                       4\n",
              "Carry All                                 3\n",
              "Tractor Truck Gasoline                    3\n",
              "Garbage or Refuse                         3\n",
              "Concrete Mixer                            3\n",
              "Chassis Cab                               3\n",
              "Multi-Wheeled Vehicle                     3\n",
              "Ambulance                                 2\n",
              "Motorbike                                 2\n",
              "van                                       2\n",
              "bmw moped                                 1\n",
              "Motorized Home                            1\n",
              "LIMO                                      1\n",
              "TRANSPORT                                 1\n",
              "TRACTOR TR                                1\n",
              "trailer                                   1\n",
              "FDNY FIRET                                1\n",
              "FIRE TRUCK                                1\n",
              "UHAUL Trai                                1\n",
              "CONCRETE M                                1\n",
              "UHAUL BOX                                 1\n",
              "UNATTACHED                                1\n",
              "AMBULANCE                                 1\n",
              "MTA BUS                                   1\n",
              "Stake or Rack                             1\n",
              "TRAILER                                   1\n",
              "unknown                                   1\n",
              "Flat Rack                                 1\n",
              "CARGO VAN                                 1\n",
              "Lift Boom                                 1\n",
              "Name: VEHICLE TYPE CODE 3, dtype: int64"
            ]
          },
          "metadata": {},
          "execution_count": 43
        }
      ],
      "source": [
        "#Inspecting the values\n",
        "df_merge['VEHICLE TYPE CODE 3'].value_counts()"
      ]
    },
    {
      "cell_type": "code",
      "execution_count": null,
      "metadata": {
        "id": "RMZVRzZefqFP",
        "colab": {
          "base_uri": "https://localhost:8080/"
        },
        "outputId": "185218ca-98d1-4fe9-a8e6-6142318f7091"
      },
      "outputs": [
        {
          "output_type": "execute_result",
          "data": {
            "text/plain": [
              "Sedan                                  802\n",
              "Station Wagon/Sport Utility Vehicle    694\n",
              "Pick-up Truck                           34\n",
              "Taxi                                    25\n",
              "Box Truck                                8\n",
              "Motorcycle                               7\n",
              "Convertible                              7\n",
              "Bus                                      5\n",
              "Dump                                     4\n",
              "Van                                      4\n",
              "Tractor Truck Diesel                     3\n",
              "Chassis Cab                              2\n",
              "E-Scooter                                2\n",
              "Bike                                     2\n",
              "LIMO                                     2\n",
              "Open Body                                1\n",
              "Carry All                                1\n",
              "Box                                      1\n",
              "CARGO VAN                                1\n",
              "trailor                                  1\n",
              "TRAILER                                  1\n",
              "E-Bike                                   1\n",
              "Refrigerated Van                         1\n",
              "FLATBED TR                               1\n",
              "FDNY                                     1\n",
              "Name: VEHICLE TYPE CODE 4, dtype: int64"
            ]
          },
          "metadata": {},
          "execution_count": 44
        }
      ],
      "source": [
        "#Inspecting the values\n",
        "df_merge['VEHICLE TYPE CODE 4'].value_counts()"
      ]
    },
    {
      "cell_type": "code",
      "execution_count": null,
      "metadata": {
        "id": "a3xvK3NMfqM0",
        "colab": {
          "base_uri": "https://localhost:8080/"
        },
        "outputId": "0621679a-6793-4149-f0ed-823e3dc97a6b"
      },
      "outputs": [
        {
          "output_type": "execute_result",
          "data": {
            "text/plain": [
              "Sedan                                  227\n",
              "Station Wagon/Sport Utility Vehicle    196\n",
              "Pick-up Truck                           15\n",
              "Taxi                                     5\n",
              "Van                                      4\n",
              "PK                                       3\n",
              "Motorcycle                               3\n",
              "Convertible                              3\n",
              "Tractor Truck Diesel                     2\n",
              "Box Truck                                2\n",
              "Motorscooter                             1\n",
              "E-Scooter                                1\n",
              "BOX Truck                                1\n",
              "Box truck                                1\n",
              "Dump                                     1\n",
              "Bus                                      1\n",
              "Name: VEHICLE TYPE CODE 5, dtype: int64"
            ]
          },
          "metadata": {},
          "execution_count": 45
        }
      ],
      "source": [
        "#Inspecting the values\n",
        "df_merge['VEHICLE TYPE CODE 5'].value_counts()"
      ]
    },
    {
      "cell_type": "code",
      "execution_count": null,
      "metadata": {
        "id": "RRwe0ZyckmAf"
      },
      "outputs": [],
      "source": [
        "#The vehicle type has wrongly spelt values \n",
        "#dictionary mapping wrong values to correct values\n",
        "mis_val = {'Sedan': 'Sedan',\n",
        " 'Station Wagon/Sport Utility Vehicle': 'Station Wagon',\n",
        " 'Taxi': 'Taxi',\n",
        " 'Pick-up Truck': 'Truck',\n",
        " 'Box Truck': 'Truck',\n",
        " 'Bike': 'Bike',\n",
        " 'Bus': 'Bus',\n",
        " 'Motorcycle': 'Motorcycle',\n",
        " 'Tractor Truck Diesel': 'Tractor',\n",
        " 'Van': 'Van',\n",
        " 'Ambulance': 'Ambulance',\n",
        " 'E-Scooter': 'E-Scooter',\n",
        " 'Convertible': 'Sedan',\n",
        " 'Dump': 'Truck',\n",
        " 'E-Bike': 'E-Bike',\n",
        " 'PK': 'Truck',\n",
        " '4 dr sedan': 'Sedan',\n",
        " 'Flat Bed': 'Truck',\n",
        " 'Garbage Or Refuse': 'Garbage Truck',\n",
        " 'Moped': 'Moped',\n",
        " 'AMBULANCE': 'Ambulance',\n",
        " 'Carry All': 'Utility Vehicle', \n",
        " 'Tow Truck / Wrecker': 'Tow Truck',\n",
        " 'Chassis Cab': 'Truck',\n",
        " 'Tractor Truck Gasoline': 'Tractor',\n",
        " 'Tanker': 'Tanker',\n",
        " 'Motorscooter': 'Moped',\n",
        " 'Motorbike': 'Motorbike',\n",
        " 'LIMO': 'Limousine',\n",
        " 'Concrete Mixer': 'Construction Vehicle',\n",
        " 'ambulance': 'Ambulance',\n",
        " 'TRAILER': 'Trailer',\n",
        " '3-Door': 'Sedan',\n",
        " 'FIRE TRUCK': 'Fire Truck',\n",
        " 'Beverage Truck': 'Truck',\n",
        " 'Flat Rack': 'Truck',\n",
        " 'Lift Boom': 'Utility Vehicle',\n",
        " 'School Bus': 'School Bus',\n",
        " 'Refrigerated Van': 'Van',\n",
        " 'Armored Truck': 'Armored Truck',\n",
        " 'Multi-Wheeled Vehicle': 'Truck',\n",
        " '2 dr sedan': 'Sedan',\n",
        " 'MOPED': 'Moped',\n",
        " 'AMBU': 'Ambulance',\n",
        " 'TRUCK': 'Truck',\n",
        " 'Bulk Agriculture': 'Utility vehicle',\n",
        " 'van': 'Van',\n",
        " 'Minibike': 'Moped',\n",
        " 'Stake or Rack': 'Trailer',\n",
        " 'BOX TRUCK': 'Truck',\n",
        " 'Trailer': 'Trailer',\n",
        " 'FIRETRUCK': 'Fire Truck',\n",
        " 'Open Body': 'Truck',\n",
        " 'FDNY TRUCK': 'Fire Truck',\n",
        " 'USPS': 'Van',\n",
        " 'UTIL': 'Utility Vehicle',\n",
        " 'REFG': 'Van',\n",
        " 'moped': 'Moped',\n",
        " 'FIRE ENGIN': 'Fire Truck',\n",
        " 'Fire Truck': 'Fire Truck',\n",
        " 'DELV': 'Van',\n",
        " 'POSTAL TRU': 'Truck',\n",
        " 'UNK': 'Unknown',\n",
        " 'government': 'Government Vehicle',\n",
        " 'postal tru': 'Truck',\n",
        " 'Minicycle': 'Moped',\n",
        " 'ambu': 'Ambulance',\n",
        " 'DELIVERY': 'Van',\n",
        " 'PICK UP': 'Truck',\n",
        " 'FLATBED': 'Truck',\n",
        " 'FDNY FIRE': 'Fire Truck',\n",
        " 'TRK': 'Truck',\n",
        " 'USPS TRUCK': 'Truck',\n",
        " 'FDNY AMBUL': 'Ambulance',\n",
        " 'DELIVERY V': 'Van',\n",
        " 'Cargo Van': 'Van',\n",
        " 'FDNY Ambul': 'Ambulance',\n",
        " 'TOW TRUCK': 'Tow Truck',\n",
        " 'SCOOTER': 'Scooter',\n",
        " 'GARBAGE TR': 'Garbage Truck',\n",
        " 'TRAC': 'Tractor',\n",
        " 'Fdny ambul': 'Ambulance',\n",
        " 'dump truck': 'Truck',\n",
        " 'forklift': 'Forklift',\n",
        " 'FORK LIFT': 'Forklift',\n",
        " 'Pick up': 'Truck',\n",
        " 'LIGHT TRAI': 'Trailer',\n",
        " 'GOLF CART': 'Utility Vehicle',\n",
        " 'Van Camper': 'Van',\n",
        " 'UNKNOWN': 'Unknown',\n",
        " 'Work van': 'Van',\n",
        " 'Motorized Home': 'Van',\n",
        " 'e skate bo': 'Skateboard',\n",
        " 'Enclosed Body - Removable Enclosure': 'Truck',\n",
        " 'MOTOR SCOO': 'Moped',\n",
        " 'SUBURBAN': 'SUV',\n",
        " 'Commercial': 'Commercial Vehicle',\n",
        " 'E bike': 'E-Bike',\n",
        " 'BACK HOE': 'Construction Vehicle',\n",
        " 'fire truck': 'Fire Truck',\n",
        " 'E-bike': 'E-Bike',\n",
        " 'LCOMM': 'Unknown',\n",
        " 'FREIG': 'Trailer',\n",
        " 'PICK UP TR': 'Truck',\n",
        " 'FDNY Fire': 'Fire Truck',\n",
        " 'Ford Van': 'Van',\n",
        " 'PICK-UP TR': 'Truck',\n",
        " 'CHEVROLET': 'SUV',\n",
        " 'Ford sprin': 'SUV',\n",
        " 'hrse': 'Horse',\n",
        " 'MAIL TRUCK': 'Truck',\n",
        " 'EMS': 'Van',\n",
        " 'COM TRANS': 'Commercial Vehicle',\n",
        " '0': 'Unknown',\n",
        " 'E-BIKE': 'E-Bike',\n",
        " 'DIRT BIKE': 'Motorbike',\n",
        " 'pc': 'Sedan',\n",
        " 'Hearse': 'Hearse',\n",
        " 'Firetruck': 'Fire Truck',\n",
        " 'FDNY EMT': 'Fire Truck',\n",
        " 'OMR': 'Unknown',\n",
        " 'FDNY FIRET': 'Fire Truck',\n",
        " 'pick': 'Truck',\n",
        " 'Tow': 'Tow Truck',\n",
        " 'CARGO VAN': 'Van',\n",
        " 'TRAIL': 'Trail',\n",
        " 'DUMP': 'Truck',\n",
        " 'Pickup with mounted Camper': 'Truck',\n",
        " 'delviery': 'Van',\n",
        " 'SCHOOL BUS': 'School Bus',\n",
        " 'Tow Truck': 'Tow Truck',\n",
        " 'AMB': 'Ambulance',\n",
        " 'Horse Trai': 'Horse',\n",
        " 'USPS #7530': 'Van',\n",
        " 'FDNY': 'Fire Truck',\n",
        " 'delivery v': 'Van',\n",
        " 'E-Bik': 'E-Bike',\n",
        " 'FDNY LADDE': 'Fire Truck',\n",
        " 'FREIG DELV': 'Truck',\n",
        " 'Utility.': 'Utility Vehicle',\n",
        " 'PUSH SCOOT': 'Children Vehicle',\n",
        " 'White ambu': 'Ambulance',\n",
        " 'SELF INSUR': 'Unknown',\n",
        " 'FREIGHTLIN': 'Truck',\n",
        " 'FREIGHT TR': 'Truck',\n",
        " 'Fire truck': 'Fire Truck',\n",
        " 'USPS POSTA': 'Van',\n",
        " 'Tow truck': 'Tow Truck',\n",
        " 'escavator': 'Construction Vehicle',\n",
        " 'P/SH': 'Unknown',\n",
        " 'TRL': 'Trailer',\n",
        " 'Lunch Wagon': 'Truck',\n",
        " 'Dump truck': 'Truck',\n",
        " 'ford econo': 'SUV',\n",
        " 'commercial': 'Commercial Vehicle',\n",
        " 'com': 'Commercial Vehicle',\n",
        " 'tow truck': 'Tow Truck',\n",
        " 'Go kart': 'Utility Vehicle',\n",
        " 'FDNY #226': 'Fire Truck',\n",
        " 'FREIGHT FL': 'Trailer',\n",
        " 'Delv': 'Van',\n",
        " 'truck': 'Truck',\n",
        " 'Livestock Rack': 'Truck',\n",
        " 'box truck': 'Truck',\n",
        " 'USPS VAN': 'Van',\n",
        " '18 WHEELER': 'Trailer',\n",
        " 'AMBULENCE': 'Ambulance',\n",
        " 'FOOD TRUCK': 'Truck',\n",
        " 'MOVING VAN': 'Van',\n",
        " 'backhoe': 'Construction Vehicle',\n",
        " 'COMMERCIAL': 'Commercial Vehicle',\n",
        " 'Tractor': 'Tractor',\n",
        " 'MOTORSCOOT': 'Moped',\n",
        " 'cross': 'SUV',\n",
        " 'JOHN DEERE': 'Utility Vehicle',\n",
        " 'TRUCK VAN': 'Van',\n",
        " 'Work Van': 'Van',\n",
        " 'Lawnmower': 'Utility Vehicle',\n",
        " 'SWT': 'Unknown',\n",
        " 'COURIER': 'Van',\n",
        " 'PSD': 'Sedan',\n",
        " 'FDNY fire': 'Fire Truck',\n",
        " 'dilevery t': 'Truck',\n",
        " 'Front-Load': 'Trailer',\n",
        " 'DRILL RIG': 'Construction Vehicle',\n",
        " 'GEN  AMBUL': 'Ambulance',\n",
        " 'Tractor tr': 'Tractor',\n",
        " 'Pumper': 'Fire Truck',\n",
        " 'OTH': 'Unknown',\n",
        " 'TRUCK FLAT': 'Truck',\n",
        " 'UNKN': 'Unknown',\n",
        " 'UTILITY VE': 'Utility Vehicle',\n",
        " 'suburban': 'SUV',\n",
        " 'WORK VAN': 'Van',\n",
        " 'CAT': 'Construction Vehicle',\n",
        " 'Pick up Tr': 'Truck',\n",
        " 'ELEC. UNIC': 'Unknown',\n",
        " 'DELIVERY T': 'Truck',\n",
        " 'MTA BUS': 'Bus',\n",
        " 'MECHANICAL': 'Sedan',\n",
        " 'NYC AMBULA': 'Ambulance',\n",
        " 'ELECTRIC S': 'E-Scooter',\n",
        " 'postal bus': 'van',\n",
        " 'Trc': 'Truck',\n",
        " 'NYC FD': 'Fire Truck',\n",
        " 'Pedicab': 'Pedicab',\n",
        " 'f-250': 'Truck',\n",
        " 'FUSION': 'Sedan',\n",
        " 'FDNY ENGIN': 'Fire Truck',\n",
        " 'CHEVY EXPR': 'Van',\n",
        " 'UT': 'Unknown',\n",
        " 'Unknown': 'Unknown',\n",
        " 'Bucket Tru': 'Truck',\n",
        " 'usps': 'Van',\n",
        " 'DOT EQUIPM': 'Truck',\n",
        " 'ROAD SWEEP': 'Utility Vehicle',\n",
        " 'Wh Ford co': 'Truck',\n",
        " 'SLINGSHOT': 'Utility Vehicle',\n",
        " 'Horse': 'Horse',\n",
        " 'FD LADDER': 'Fire Truck',\n",
        " 'Fork lift' : 'Forklift',\n",
        " 'E REVEL SC': 'E-Scooter',\n",
        " 'UPS TRUCK': 'Truck',\n",
        " 'Freight': 'Truck',\n",
        " 'BOBCAT FOR': 'Truck',\n",
        " 'FDNY Engin': 'Fire Truck',\n",
        " 'School bus': 'School Bus',\n",
        " 'Sanitation': 'Truck',\n",
        "    'Ice Cream': 'Truck',\n",
        "    'Pickup': 'Truck',\n",
        "    'Tractor Tr': 'Tractor',\n",
        "    'Enclosed Body - Nonremovable Enclosure': 'Unknown',\n",
        "    'Fdny Ems': 'Fire Truck',\n",
        "    'Pallet': 'Unknown',\n",
        "    'Lcom': 'Unknown',\n",
        "    'Glnen': 'Sedan',\n",
        "    'Sweeper': 'Road Sweeper',\n",
        "    'Tl': 'Sedan',\n",
        "    'Fd Truck': 'Fire Truck',\n",
        "    'Fire': 'Fire Truck',\n",
        "    'Itas': 'Sedan',\n",
        "    'Uhaul Truc': 'Truck',\n",
        "    '18 Weeler': 'Trailer',\n",
        "    'Mailtruck': 'Truck',\n",
        "    'E-Scoter': 'E-Scooter',\n",
        "    'Lma': 'Unknown',\n",
        "    'Skid Loade': 'Construction Vehicle',\n",
        "    'T630 Forkl': 'Forklift',\n",
        "    'Rds': 'Sedan',\n",
        "    'Access A R': 'Bus',\n",
        "    'Crane': 'Construction Vehicle',\n",
        "    'Omt': 'Unknown',\n",
        "    'Postal Veh': 'Truck',\n",
        "    'Forklift T': 'Forklift',\n",
        "    'City Mta B': 'Bus',\n",
        "    'Pumper Tru': 'Fire Truck',\n",
        "    'Trailor': 'Trailer',\n",
        "    'Glben': 'Sedan',\n",
        "    'Armored Tr': 'Armored Truck',\n",
        "    'Sprinter V': 'Van',\n",
        "    'Excavator': 'Construction Vehicle',\n",
        "    'Pickup Tru': 'Truck',\n",
        "    'Uhaul': 'Truck',\n",
        "    'Cmix': 'Construction Vehicle',\n",
        "    'Tract': 'Tractor',\n",
        "    'Constructi': 'Construction Vehicle',\n",
        "    'Flatbed Tr': 'Truck',\n",
        "    'Tour Bus': 'Tour Bus',\n",
        "    'Usps Mail': 'Van',\n",
        "    'Us Postal': 'Van',\n",
        "    'Jetski': 'JetSki',\n",
        "    'Scoot': 'Scooter',\n",
        "    'Power Shov': 'Construction Vehicle',\n",
        "    'Ems Truck': 'Truck',\n",
        "    'Nyc Bus': 'Bus',\n",
        "    'E-Skateboa': 'Skateboard',\n",
        "    'Special Pu': 'Special Purpose Vehicle',\n",
        "    'Frieghtlin': 'Truck',\n",
        "    'Ram': 'Truck',\n",
        "    'Palfinger': 'Construction Vehicle',\n",
        "    'Moped Scoo': 'Moped',\n",
        "    'Electric M': 'E-bike',\n",
        "    'Internatio': 'International',\n",
        "    'Street Cle': 'Road Sweeper',\n",
        "    'Mta Truck': 'Truck',\n",
        "    'Escooter': 'E-Scooter',\n",
        "    '4Dsd': 'Sedan',\n",
        "    'Nyc Firetr': 'Fire Truck',\n",
        "    'Street Swe': 'Road Sweeper',\n",
        "    'Vanette': 'Van',\n",
        "    'Ukn': 'Unknown',\n",
        "    'Utility Tr': 'Utility Vehicle',\n",
        "    'Mopd': 'Moped',\n",
        "    'Tree Cutte': 'Tree Cutter',\n",
        "    'Toyota': 'Sedan',\n",
        "    'Bob Cat': 'Truck',\n",
        "    'Escovator': 'Construction Vehicle',\n",
        "    'Glp050Vxev': 'Forklift',\n",
        "    'Van/Transi': 'Van',\n",
        "    'Razor Scoo': 'E-Scooter',\n",
        "    'Gas Scoote': 'Scooter',\n",
        "    'Mobile': 'Unknown',\n",
        "    'Haul For H': 'Van',\n",
        "    'Pick Truck': 'Truck',\n",
        "    'Commerical': 'Commercial Vehicle',\n",
        "    'Glass Rack': 'Unknown',\n",
        "    'Suv': 'SUV',\n",
        "    'Vehicle 2': 'Unknown',\n",
        "    'Tow Trk': 'Tow Truck',\n",
        "    \"MTA\" : \"Bus\",\n",
        "    \"OMS\": \"Ambulance\",\n",
        "    \"EMERGENCY\" : \"Ambulance\",\n",
        "    \"CITY\" : \"bus\",\n",
        "    \"TR-TRAILER\" : \"Trailer\",\n",
        "    \"ESU RESCUE\" : \"Ambulance\",\n",
        "    \"D/V WB\" : \"van\",\n",
        "    \"SNOW PLOW\" : \"Snow plow\",\n",
        "    \"YELLOW CAB\" : \"taxi\",\n",
        "    \"BOBCAT\" : \"truck\",\n",
        "    \"NAT GRID T\" : \"truck\",\n",
        "    \"SE\" : \"Special equipment vehicle\",\n",
        "    \"POSTAL SER\" : \"vaN\",\n",
        "    \"HOPPER\" : \"truck\",\n",
        "    \"BACKH\" : \"TRUCK\",\n",
        "    \"LIT DIRECT\" : \"Special equipment vehicle\",\n",
        "    \"TR\" : \"Truck\",\n",
        "    \"NYS AMBULA\" : \"ambulance\",\n",
        "    \"G COM\" : \"Government vehicle\",\n",
        "    \"CHILDREN VEHICLE\" : \"Children vehicle\",\n",
        "    \"HEARSE\" : \"Hearse\",  \n",
        "    \"TRAIL\" : \"TrailER\",\n",
        "    \"TANK\" : \"Tank\",\n",
        "    'CONCRETE M' : \"Construction Vehicle\",\n",
        "    \"UNATTACHED\" : \"Trailer\",  \n",
        "    \"UHAUL BOX\" : \"Van\",              \n",
        "    'UHAUL TRAI' :\"Trailer\",               \n",
        "    'BMW MOPED'  : \"Moped\",              \n",
        "    'TRANSPORT': \"Unknown\",\n",
        "    'Box': \"Truck\",\n",
        "    'INTERNATIONAL': 'Unknown',\n",
        "    'CITY OF NE': 'Bus',\n",
        "    'HINO TANK': 'Tanker',                      \n",
        "    'NYC FIRE T': 'Fire Truck',\n",
        "    'POSTAL CAR': 'van',\n",
        "    'SHORT BUS': 'Bus',\n",
        "    'SCOTTER': 'Scooter',\n",
        "    'UTILITY': 'Utility Vehicle',\n",
        "    'PICK RD': 'Truck',\n",
        "    'BULDOZER': 'Construction Vehicle',\n",
        "    'AMBULETTE': 'Ambulance',\n",
        "    'GOV': 'Government Vehicle',\n",
        "    'MOBILE FOO': 'Truck',\n",
        "    'SEMI-TRAIL': 'Trailer',\n",
        "    'VENDOR CHA': 'Vendor Cart',\n",
        "    '600AJ': 'Construction Vehicle',\n",
        "    'COMME': 'Commercial Vehicle',\n",
        "    'SPINTER VA': 'Van',\n",
        "    'BLU BUS': 'Bus',\n",
        "    'LIVERY OMN': 'Van',\n",
        "    'NYC DOT': 'Government Vehicle',\n",
        "    'TANK WH': 'Tanker',\n",
        "    'FEDERAL EX': 'Truck',\n",
        "    'TOUR BUS': 'Tour Bus',\n",
        "    'HEARSE': 'Hearse',\n",
        "    'SEMI TRAIL': 'Trailer'}\n",
        "\n",
        "mis_val = {k.upper():v.upper() for k,v in mis_val.items()}"
      ]
    },
    {
      "cell_type": "code",
      "execution_count": null,
      "metadata": {
        "id": "uW8-CILW-2fp",
        "colab": {
          "base_uri": "https://localhost:8080/"
        },
        "outputId": "c7ef4c34-c893-49b8-d375-0af6ca59000a"
      },
      "outputs": [
        {
          "output_type": "execute_result",
          "data": {
            "text/plain": [
              "SEDAN                        31615\n",
              "STATION WAGON                25178\n",
              "TRUCK                         3598\n",
              "TAXI                          2570\n",
              "BUS                            887\n",
              "BIKE                           778\n",
              "TRACTOR                        566\n",
              "MOTORCYCLE                     465\n",
              "VAN                            454\n",
              "AMBULANCE                      420\n",
              "E-SCOOTER                      244\n",
              "E-BIKE                         157\n",
              "MOPED                          149\n",
              "GARBAGE TRUCK                  122\n",
              "UTILITY VEHICLE                105\n",
              "TOW TRUCK                       66\n",
              "FIRE TRUCK                      51\n",
              "TANKER                          47\n",
              "MOTORBIKE                       37\n",
              "LIMOUSINE                       34\n",
              "TRAILER                         31\n",
              "CONSTRUCTION VEHICLE            25\n",
              "SCHOOL BUS                      22\n",
              "UNKNOWN                         18\n",
              "ARMORED TRUCK                   17\n",
              "FORKLIFT                         7\n",
              "SUV                              6\n",
              "COMMERCIAL VEHICLE               6\n",
              "HORSE                            3\n",
              "GOVERNMENT VEHICLE               3\n",
              "SCOOTER                          2\n",
              "SPECIAL EQUIPMENT VEHICLE        2\n",
              "PEDICAB                          1\n",
              "SKATEBOARD                       1\n",
              "HEARSE                           1\n",
              "CHILDREN VEHICLE                 1\n",
              "SNOW PLOW                        1\n",
              "TANK                             1\n",
              "Name: VEHICLE TYPE CODE 1, dtype: int64"
            ]
          },
          "metadata": {},
          "execution_count": 72
        }
      ],
      "source": [
        "#replacing wrongly spelt values\n",
        "df_merge['VEHICLE TYPE CODE 1'] = df_merge['VEHICLE TYPE CODE 1'].str.upper().replace(mis_val)\n",
        "\n",
        "\n",
        "df_merge['VEHICLE TYPE CODE 1'].value_counts()"
      ]
    },
    {
      "cell_type": "code",
      "execution_count": null,
      "metadata": {
        "id": "e9CTYkVifn84",
        "colab": {
          "base_uri": "https://localhost:8080/"
        },
        "outputId": "037db0bb-75fd-44f4-dff0-7c8077b770e1"
      },
      "outputs": [
        {
          "output_type": "execute_result",
          "data": {
            "text/plain": [
              "SEDAN                      20923\n",
              "STATION WAGON              16925\n",
              "TRUCK                       3391\n",
              "BIKE                        2165\n",
              "TAXI                        1524\n",
              "BUS                          803\n",
              "TRACTOR                      551\n",
              "MOTORCYCLE                   402\n",
              "VAN                          386\n",
              "E-SCOOTER                    312\n",
              "E-BIKE                       295\n",
              "AMBULANCE                    188\n",
              "MOPED                        155\n",
              "GARBAGE TRUCK                125\n",
              "UTILITY VEHICLE               80\n",
              "MOTORBIKE                     66\n",
              "TOW TRUCK                     60\n",
              "FIRE TRUCK                    54\n",
              "UNKNOWN                       50\n",
              "CONSTRUCTION VEHICLE          43\n",
              "TRAILER                       38\n",
              "TANKER                        37\n",
              "LIMOUSINE                     33\n",
              "FORKLIFT                      21\n",
              "SCOOTER                       15\n",
              "SCHOOL BUS                    13\n",
              "ARMORED TRUCK                 10\n",
              "COMMERCIAL VEHICLE             9\n",
              "ROAD SWEEPER                   2\n",
              "PEDICAB                        2\n",
              "SKATEBOARD                     2\n",
              "GOVERNMENT VEHICLE             2\n",
              "SPECIAL PURPOSE VEHICLE        1\n",
              "SUV                            1\n",
              "CHILDREN VEHICLE               1\n",
              "TREE CUTTER                    1\n",
              "JETSKI                         1\n",
              "HEARSE                         1\n",
              "TOUR BUS                       1\n",
              "VENDOR CART                    1\n",
              "Name: VEHICLE TYPE CODE 2, dtype: int64"
            ]
          },
          "metadata": {},
          "execution_count": 73
        }
      ],
      "source": [
        "#replacing wrongly spelt values\n",
        "df_merge['VEHICLE TYPE CODE 2'] = df_merge['VEHICLE TYPE CODE 2'].str.upper().replace(mis_val)\n",
        "\n",
        "df_merge['VEHICLE TYPE CODE 2'].value_counts()"
      ]
    },
    {
      "cell_type": "code",
      "execution_count": null,
      "metadata": {
        "id": "Ab-SByr-MVsa",
        "colab": {
          "base_uri": "https://localhost:8080/"
        },
        "outputId": "e514b3a6-14d1-455f-e379-8d30a84902e5"
      },
      "outputs": [
        {
          "output_type": "execute_result",
          "data": {
            "text/plain": [
              "SEDAN                   2852\n",
              "STATION WAGON           2439\n",
              "TRUCK                    224\n",
              "TAXI                     121\n",
              "VAN                       30\n",
              "BUS                       30\n",
              "BIKE                      28\n",
              "TRACTOR                   28\n",
              "MOTORCYCLE                18\n",
              "E-SCOOTER                  6\n",
              "TRAILER                    5\n",
              "UTILITY VEHICLE            4\n",
              "E-BIKE                     4\n",
              "CONSTRUCTION VEHICLE       4\n",
              "TOW TRUCK                  4\n",
              "AMBULANCE                  3\n",
              "GARBAGE TRUCK              3\n",
              "UNKNOWN                    2\n",
              "MOTORBIKE                  2\n",
              "FIRE TRUCK                 2\n",
              "LIMOUSINE                  1\n",
              "MOPED                      1\n",
              "Name: VEHICLE TYPE CODE 3, dtype: int64"
            ]
          },
          "metadata": {},
          "execution_count": 74
        }
      ],
      "source": [
        "#replacing wrongly spelt values\n",
        "df_merge['VEHICLE TYPE CODE 3'] = df_merge['VEHICLE TYPE CODE 3'].str.upper().replace(mis_val)\n",
        "\n",
        "df_merge['VEHICLE TYPE CODE 3'].value_counts()"
      ]
    },
    {
      "cell_type": "code",
      "execution_count": null,
      "metadata": {
        "id": "-dl84LWb_ED0",
        "colab": {
          "base_uri": "https://localhost:8080/"
        },
        "outputId": "ef972e56-714b-473b-dd07-3f8f94719cf2"
      },
      "outputs": [
        {
          "output_type": "execute_result",
          "data": {
            "text/plain": [
              "SEDAN              809\n",
              "STATION WAGON      694\n",
              "TRUCK               51\n",
              "TAXI                25\n",
              "MOTORCYCLE           7\n",
              "VAN                  6\n",
              "BUS                  5\n",
              "TRACTOR              3\n",
              "BIKE                 2\n",
              "TRAILER              2\n",
              "LIMOUSINE            2\n",
              "E-SCOOTER            2\n",
              "E-BIKE               1\n",
              "UTILITY VEHICLE      1\n",
              "FIRE TRUCK           1\n",
              "Name: VEHICLE TYPE CODE 4, dtype: int64"
            ]
          },
          "metadata": {},
          "execution_count": 75
        }
      ],
      "source": [
        "#replacing wrongly spelt values\n",
        "df_merge['VEHICLE TYPE CODE 4'] = df_merge['VEHICLE TYPE CODE 4'].str.upper().replace(mis_val)\n",
        "\n",
        "df_merge['VEHICLE TYPE CODE 4'].value_counts()"
      ]
    },
    {
      "cell_type": "code",
      "execution_count": null,
      "metadata": {
        "colab": {
          "base_uri": "https://localhost:8080/"
        },
        "id": "roI_L7md_MqU",
        "outputId": "b75a2378-66c7-4d59-9fe7-969d49b94eeb"
      },
      "outputs": [
        {
          "output_type": "execute_result",
          "data": {
            "text/plain": [
              "SEDAN            230\n",
              "STATION WAGON    196\n",
              "TRUCK             23\n",
              "TAXI               5\n",
              "VAN                4\n",
              "MOTORCYCLE         3\n",
              "TRACTOR            2\n",
              "MOPED              1\n",
              "E-SCOOTER          1\n",
              "BUS                1\n",
              "Name: VEHICLE TYPE CODE 5, dtype: int64"
            ]
          },
          "metadata": {},
          "execution_count": 76
        }
      ],
      "source": [
        "#replacing wrongly spelt values\n",
        "df_merge['VEHICLE TYPE CODE 5'] = df_merge['VEHICLE TYPE CODE 5'].str.upper().replace(mis_val)\n",
        "\n",
        "df_merge['VEHICLE TYPE CODE 5'].value_counts()"
      ]
    },
    {
      "cell_type": "code",
      "execution_count": null,
      "metadata": {
        "id": "TCw366I_5YSX"
      },
      "outputs": [],
      "source": [
        "# Export the DataFrame to a CSV file\n",
        "df_merge.to_csv('Clean.csv', index=False)\n",
        "files.download('Clean.csv')"
      ]
    }
  ],
  "metadata": {
    "colab": {
      "provenance": [],
      "authorship_tag": "ABX9TyPCQNT92Vg7tEpGptcRWHEi",
      "include_colab_link": true
    },
    "kernelspec": {
      "display_name": "Python 3",
      "name": "python3"
    },
    "language_info": {
      "name": "python"
    },
    "widgets": {
      "application/vnd.jupyter.widget-state+json": {
        "2a1dcc57cd894ad1a6a004ebbfba4d48": {
          "model_module": "@jupyter-widgets/controls",
          "model_name": "HBoxModel",
          "model_module_version": "1.5.0",
          "state": {
            "_dom_classes": [],
            "_model_module": "@jupyter-widgets/controls",
            "_model_module_version": "1.5.0",
            "_model_name": "HBoxModel",
            "_view_count": null,
            "_view_module": "@jupyter-widgets/controls",
            "_view_module_version": "1.5.0",
            "_view_name": "HBoxView",
            "box_style": "",
            "children": [
              "IPY_MODEL_878b8d160f63411190a1e195c719934f",
              "IPY_MODEL_b274f54c9d744e669658385fc19e2b29",
              "IPY_MODEL_29e20e7cf53945688f208fe30d0b814c"
            ],
            "layout": "IPY_MODEL_028d5786348d4706888796d00e6ff982"
          }
        },
        "878b8d160f63411190a1e195c719934f": {
          "model_module": "@jupyter-widgets/controls",
          "model_name": "HTMLModel",
          "model_module_version": "1.5.0",
          "state": {
            "_dom_classes": [],
            "_model_module": "@jupyter-widgets/controls",
            "_model_module_version": "1.5.0",
            "_model_name": "HTMLModel",
            "_view_count": null,
            "_view_module": "@jupyter-widgets/controls",
            "_view_module_version": "1.5.0",
            "_view_name": "HTMLView",
            "description": "",
            "description_tooltip": null,
            "layout": "IPY_MODEL_00a8bc9888e24839b735a3ea23c7789c",
            "placeholder": "​",
            "style": "IPY_MODEL_3a4d00151aee4d18b911b2ed44f3eb8d",
            "value": "100%"
          }
        },
        "b274f54c9d744e669658385fc19e2b29": {
          "model_module": "@jupyter-widgets/controls",
          "model_name": "FloatProgressModel",
          "model_module_version": "1.5.0",
          "state": {
            "_dom_classes": [],
            "_model_module": "@jupyter-widgets/controls",
            "_model_module_version": "1.5.0",
            "_model_name": "FloatProgressModel",
            "_view_count": null,
            "_view_module": "@jupyter-widgets/controls",
            "_view_module_version": "1.5.0",
            "_view_name": "ProgressView",
            "bar_style": "success",
            "description": "",
            "description_tooltip": null,
            "layout": "IPY_MODEL_3afad59f49a3412180079b05d9f9deb6",
            "max": 25861,
            "min": 0,
            "orientation": "horizontal",
            "style": "IPY_MODEL_32fcaf658dbd4f0a90597eb154d3479f",
            "value": 25861
          }
        },
        "29e20e7cf53945688f208fe30d0b814c": {
          "model_module": "@jupyter-widgets/controls",
          "model_name": "HTMLModel",
          "model_module_version": "1.5.0",
          "state": {
            "_dom_classes": [],
            "_model_module": "@jupyter-widgets/controls",
            "_model_module_version": "1.5.0",
            "_model_name": "HTMLModel",
            "_view_count": null,
            "_view_module": "@jupyter-widgets/controls",
            "_view_module_version": "1.5.0",
            "_view_name": "HTMLView",
            "description": "",
            "description_tooltip": null,
            "layout": "IPY_MODEL_79cd926d60784f4384599c4d209372e8",
            "placeholder": "​",
            "style": "IPY_MODEL_8cb31bdf2a5f4abcaa17d85888036676",
            "value": " 25861/25861 [6:09:21&lt;00:00,  1.04it/s]"
          }
        },
        "028d5786348d4706888796d00e6ff982": {
          "model_module": "@jupyter-widgets/base",
          "model_name": "LayoutModel",
          "model_module_version": "1.2.0",
          "state": {
            "_model_module": "@jupyter-widgets/base",
            "_model_module_version": "1.2.0",
            "_model_name": "LayoutModel",
            "_view_count": null,
            "_view_module": "@jupyter-widgets/base",
            "_view_module_version": "1.2.0",
            "_view_name": "LayoutView",
            "align_content": null,
            "align_items": null,
            "align_self": null,
            "border": null,
            "bottom": null,
            "display": null,
            "flex": null,
            "flex_flow": null,
            "grid_area": null,
            "grid_auto_columns": null,
            "grid_auto_flow": null,
            "grid_auto_rows": null,
            "grid_column": null,
            "grid_gap": null,
            "grid_row": null,
            "grid_template_areas": null,
            "grid_template_columns": null,
            "grid_template_rows": null,
            "height": null,
            "justify_content": null,
            "justify_items": null,
            "left": null,
            "margin": null,
            "max_height": null,
            "max_width": null,
            "min_height": null,
            "min_width": null,
            "object_fit": null,
            "object_position": null,
            "order": null,
            "overflow": null,
            "overflow_x": null,
            "overflow_y": null,
            "padding": null,
            "right": null,
            "top": null,
            "visibility": null,
            "width": null
          }
        },
        "00a8bc9888e24839b735a3ea23c7789c": {
          "model_module": "@jupyter-widgets/base",
          "model_name": "LayoutModel",
          "model_module_version": "1.2.0",
          "state": {
            "_model_module": "@jupyter-widgets/base",
            "_model_module_version": "1.2.0",
            "_model_name": "LayoutModel",
            "_view_count": null,
            "_view_module": "@jupyter-widgets/base",
            "_view_module_version": "1.2.0",
            "_view_name": "LayoutView",
            "align_content": null,
            "align_items": null,
            "align_self": null,
            "border": null,
            "bottom": null,
            "display": null,
            "flex": null,
            "flex_flow": null,
            "grid_area": null,
            "grid_auto_columns": null,
            "grid_auto_flow": null,
            "grid_auto_rows": null,
            "grid_column": null,
            "grid_gap": null,
            "grid_row": null,
            "grid_template_areas": null,
            "grid_template_columns": null,
            "grid_template_rows": null,
            "height": null,
            "justify_content": null,
            "justify_items": null,
            "left": null,
            "margin": null,
            "max_height": null,
            "max_width": null,
            "min_height": null,
            "min_width": null,
            "object_fit": null,
            "object_position": null,
            "order": null,
            "overflow": null,
            "overflow_x": null,
            "overflow_y": null,
            "padding": null,
            "right": null,
            "top": null,
            "visibility": null,
            "width": null
          }
        },
        "3a4d00151aee4d18b911b2ed44f3eb8d": {
          "model_module": "@jupyter-widgets/controls",
          "model_name": "DescriptionStyleModel",
          "model_module_version": "1.5.0",
          "state": {
            "_model_module": "@jupyter-widgets/controls",
            "_model_module_version": "1.5.0",
            "_model_name": "DescriptionStyleModel",
            "_view_count": null,
            "_view_module": "@jupyter-widgets/base",
            "_view_module_version": "1.2.0",
            "_view_name": "StyleView",
            "description_width": ""
          }
        },
        "3afad59f49a3412180079b05d9f9deb6": {
          "model_module": "@jupyter-widgets/base",
          "model_name": "LayoutModel",
          "model_module_version": "1.2.0",
          "state": {
            "_model_module": "@jupyter-widgets/base",
            "_model_module_version": "1.2.0",
            "_model_name": "LayoutModel",
            "_view_count": null,
            "_view_module": "@jupyter-widgets/base",
            "_view_module_version": "1.2.0",
            "_view_name": "LayoutView",
            "align_content": null,
            "align_items": null,
            "align_self": null,
            "border": null,
            "bottom": null,
            "display": null,
            "flex": null,
            "flex_flow": null,
            "grid_area": null,
            "grid_auto_columns": null,
            "grid_auto_flow": null,
            "grid_auto_rows": null,
            "grid_column": null,
            "grid_gap": null,
            "grid_row": null,
            "grid_template_areas": null,
            "grid_template_columns": null,
            "grid_template_rows": null,
            "height": null,
            "justify_content": null,
            "justify_items": null,
            "left": null,
            "margin": null,
            "max_height": null,
            "max_width": null,
            "min_height": null,
            "min_width": null,
            "object_fit": null,
            "object_position": null,
            "order": null,
            "overflow": null,
            "overflow_x": null,
            "overflow_y": null,
            "padding": null,
            "right": null,
            "top": null,
            "visibility": null,
            "width": null
          }
        },
        "32fcaf658dbd4f0a90597eb154d3479f": {
          "model_module": "@jupyter-widgets/controls",
          "model_name": "ProgressStyleModel",
          "model_module_version": "1.5.0",
          "state": {
            "_model_module": "@jupyter-widgets/controls",
            "_model_module_version": "1.5.0",
            "_model_name": "ProgressStyleModel",
            "_view_count": null,
            "_view_module": "@jupyter-widgets/base",
            "_view_module_version": "1.2.0",
            "_view_name": "StyleView",
            "bar_color": null,
            "description_width": ""
          }
        },
        "79cd926d60784f4384599c4d209372e8": {
          "model_module": "@jupyter-widgets/base",
          "model_name": "LayoutModel",
          "model_module_version": "1.2.0",
          "state": {
            "_model_module": "@jupyter-widgets/base",
            "_model_module_version": "1.2.0",
            "_model_name": "LayoutModel",
            "_view_count": null,
            "_view_module": "@jupyter-widgets/base",
            "_view_module_version": "1.2.0",
            "_view_name": "LayoutView",
            "align_content": null,
            "align_items": null,
            "align_self": null,
            "border": null,
            "bottom": null,
            "display": null,
            "flex": null,
            "flex_flow": null,
            "grid_area": null,
            "grid_auto_columns": null,
            "grid_auto_flow": null,
            "grid_auto_rows": null,
            "grid_column": null,
            "grid_gap": null,
            "grid_row": null,
            "grid_template_areas": null,
            "grid_template_columns": null,
            "grid_template_rows": null,
            "height": null,
            "justify_content": null,
            "justify_items": null,
            "left": null,
            "margin": null,
            "max_height": null,
            "max_width": null,
            "min_height": null,
            "min_width": null,
            "object_fit": null,
            "object_position": null,
            "order": null,
            "overflow": null,
            "overflow_x": null,
            "overflow_y": null,
            "padding": null,
            "right": null,
            "top": null,
            "visibility": null,
            "width": null
          }
        },
        "8cb31bdf2a5f4abcaa17d85888036676": {
          "model_module": "@jupyter-widgets/controls",
          "model_name": "DescriptionStyleModel",
          "model_module_version": "1.5.0",
          "state": {
            "_model_module": "@jupyter-widgets/controls",
            "_model_module_version": "1.5.0",
            "_model_name": "DescriptionStyleModel",
            "_view_count": null,
            "_view_module": "@jupyter-widgets/base",
            "_view_module_version": "1.2.0",
            "_view_name": "StyleView",
            "description_width": ""
          }
        }
      }
    }
  },
  "nbformat": 4,
  "nbformat_minor": 0
}