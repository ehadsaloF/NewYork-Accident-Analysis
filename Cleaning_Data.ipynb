{
  "cells": [
    {
      "cell_type": "markdown",
      "metadata": {
        "id": "view-in-github",
        "colab_type": "text"
      },
      "source": [
        "<a href=\"https://colab.research.google.com/github/ehadsaloF/NewYork-Accident-Analysis/blob/main/Cleaning_Data.ipynb\" target=\"_parent\"><img src=\"https://colab.research.google.com/assets/colab-badge.svg\" alt=\"Open In Colab\"/></a>"
      ]
    },
    {
      "cell_type": "code",
      "execution_count": null,
      "metadata": {
        "id": "IRWo-Ei1F4pv"
      },
      "outputs": [],
      "source": [
        "import pandas as pd\n",
        "from geopy.geocoders import Nominatim"
      ]
    },
    {
      "cell_type": "code",
      "execution_count": null,
      "metadata": {
        "id": "bj6Q-H7hIYvd"
      },
      "outputs": [],
      "source": [
        "#importing data from Maven Analytics\n",
        "df = pd.read_csv(\"https://maven-datasets.s3.amazonaws.com/NYC+Traffic+Accidents/NYC+Accidents+2020.csv.zip\")"
      ]
    },
    {
      "cell_type": "code",
      "execution_count": null,
      "metadata": {
        "id": "UTi7TOovLtlU"
      },
      "outputs": [],
      "source": [
        "#checking the datatype of the columns\n",
        "df.dtypes"
      ]
    },
    {
      "cell_type": "code",
      "execution_count": null,
      "metadata": {
        "id": "TNWIOO2rNSF9"
      },
      "outputs": [],
      "source": [
        "#Changing the datatype of Crash Date and Crash Time \n",
        "df[\"CRASH DATE\"] = pd.to_datetime(df['CRASH DATE'], format='%Y-%m-%d')\n",
        "df[\"CRASH TIME\"] = pd.to_datetime(df['CRASH TIME'])\n",
        "\n",
        "#confirming the changes\n",
        "df.dtypes"
      ]
    },
    {
      "cell_type": "code",
      "execution_count": null,
      "metadata": {
        "id": "MLW-HEshSQzT"
      },
      "outputs": [],
      "source": [
        "df.duplicated().sum()"
      ]
    },
    {
      "cell_type": "code",
      "execution_count": null,
      "metadata": {
        "id": "AR5fCqW5UAj2"
      },
      "outputs": [],
      "source": [
        "df.shape"
      ]
    },
    {
      "cell_type": "code",
      "execution_count": null,
      "metadata": {
        "id": "YcpIaJIyT0IQ"
      },
      "outputs": [],
      "source": [
        "df.isna().sum()"
      ]
    },
    {
      "cell_type": "code",
      "execution_count": null,
      "metadata": {
        "id": "KgNqm_NXZT_d"
      },
      "outputs": [],
      "source": [
        "# checking if the location, latittude ans longitude have the same records \n",
        "#with missing values\n",
        "df[df['LATITUDE'].isnull()].isna().sum()"
      ]
    },
    {
      "cell_type": "code",
      "source": [
        "#dropping records with missing latitude and longitude\n",
        "df = df.dropna(how='all', subset=[\"LATITUDE\"])\n",
        "\n",
        "df[df['LATITUDE'].isnull()].isna().sum()"
      ],
      "metadata": {
        "id": "vmgSCs55nyZW"
      },
      "execution_count": null,
      "outputs": []
    },
    {
      "cell_type": "code",
      "execution_count": null,
      "metadata": {
        "id": "v2W8iY0DhZEB"
      },
      "outputs": [],
      "source": [
        "#getting the list of latitude and longitude for missing Borough values\n",
        "joined_column = df[df['BOROUGH'].isnull()& df['LATITUDE'].notnull()].apply(lambda x: str(x[\"LATITUDE\"]) + \", \" + str(x[\"LONGITUDE\"]), axis=1).to_list()\n",
        "#removing duplicates\n",
        "joined_column = list(set(joined_column))\n",
        "joined_column = pd.DataFrame(list(set(joined_column)))\n",
        "\n",
        "\n",
        "# Rename column 'A' to 'X'\n",
        "joined_column.columns = ['Location']\n",
        "joined_column"
      ]
    },
    {
      "cell_type": "code",
      "execution_count": null,
      "metadata": {
        "id": "7bJKl_VnfHJM"
      },
      "outputs": [],
      "source": [
        "from tqdm import tqdm\n",
        "from geopy.geocoders import Nominatim\n",
        "from geopy.extra.rate_limiter import RateLimiter\n",
        "\n",
        "import tqdm\n",
        "from tqdm._tqdm_notebook import tqdm_notebook\n",
        "\n",
        "# Initialize geolocator object\n",
        "geolocator = Nominatim(user_agent='my_app', timeout=10)\n",
        "\n",
        "revgeo = RateLimiter(geolocator.reverse, min_delay_seconds=0.001)\n",
        "\n",
        "joined_column['address'] = joined_column['Location'].progress_apply(revgeo)\n",
        "joined_column.head()\n"
      ]
    },
    {
      "cell_type": "code",
      "source": [
        "from google.colab import files\n",
        "# Export the DataFrame to a CSV file\n",
        "joined_column.to_csv('joined_column.csv', index=False)\n",
        "files.download('joined_column.csv')"
      ],
      "metadata": {
        "id": "KFOpeC6TuNfK"
      },
      "execution_count": null,
      "outputs": []
    },
    {
      "cell_type": "code",
      "execution_count": null,
      "metadata": {
        "id": "30tlmH-gSETl"
      },
      "outputs": [],
      "source": [
        "#getting the list of latitude and longitude for missing ONStreet values\n",
        "on_street = df[df['ON STREET NAME'].isnull()& df['LATITUDE'].notnull()].apply(lambda x: str(x[\"LATITUDE\"]) + \", \" + str(x[\"LONGITUDE\"]), axis=1).to_list()\n",
        "\n",
        "#removing duplicates\n",
        "on_street = list(set(on_street))"
      ]
    },
    {
      "cell_type": "code",
      "source": [
        "# Remove values that are present in the 'joined_column Location' column\n",
        "result = [value for value in on_street if value not in joined_column['Location'].tolist()]\n",
        "\n",
        "\n",
        "On_street = pd.DataFrame(result)\n",
        "\n",
        "\n",
        "# Rename column 'A' to 'X'\n",
        "On_street.columns = ['Location']\n",
        "On_street"
      ],
      "metadata": {
        "id": "MUPJdy6ow4P_"
      },
      "execution_count": null,
      "outputs": []
    },
    {
      "cell_type": "code",
      "source": [
        "On_street['address'] = On_street['Location'].progress_apply(revgeo)\n",
        "On_street.head()"
      ],
      "metadata": {
        "colab": {
          "base_uri": "https://localhost:8080/",
          "height": 312
        },
        "id": "XX_aGEXAzKzF",
        "outputId": "ff66ba34-05a8-40d8-87bf-d966883feb9b"
      },
      "execution_count": null,
      "outputs": [
        {
          "output_type": "stream",
          "name": "stderr",
          "text": [
            "100%|██████████| 16407/16407 [2:16:48<00:00,  2.00it/s]\n"
          ]
        },
        {
          "output_type": "execute_result",
          "data": {
            "text/plain": [
              "                Location                                            address\n",
              "0   40.679825, -73.79451  (117-12, 146th Street, Queens, City of New Yor...\n",
              "1   40.571987, -74.10823  (2460, Hylan Boulevard, New Dorp, Staten Islan...\n",
              "2   40.879955, -73.87888  (Bainbridge Avenue & East 210th Street, Bainbr...\n",
              "3    40.83087, -73.87495  (1245, Morrison Avenue, West Farms, Bronx Coun...\n",
              "4  40.705135, -73.905334  (1911, Palmetto Street, Ridgewood, Queens, Cit..."
            ],
            "text/html": [
              "\n",
              "  <div id=\"df-3cd6a81f-2bea-4f8d-a90e-c814e1d2e2e2\">\n",
              "    <div class=\"colab-df-container\">\n",
              "      <div>\n",
              "<style scoped>\n",
              "    .dataframe tbody tr th:only-of-type {\n",
              "        vertical-align: middle;\n",
              "    }\n",
              "\n",
              "    .dataframe tbody tr th {\n",
              "        vertical-align: top;\n",
              "    }\n",
              "\n",
              "    .dataframe thead th {\n",
              "        text-align: right;\n",
              "    }\n",
              "</style>\n",
              "<table border=\"1\" class=\"dataframe\">\n",
              "  <thead>\n",
              "    <tr style=\"text-align: right;\">\n",
              "      <th></th>\n",
              "      <th>Location</th>\n",
              "      <th>address</th>\n",
              "    </tr>\n",
              "  </thead>\n",
              "  <tbody>\n",
              "    <tr>\n",
              "      <th>0</th>\n",
              "      <td>40.679825, -73.79451</td>\n",
              "      <td>(117-12, 146th Street, Queens, City of New Yor...</td>\n",
              "    </tr>\n",
              "    <tr>\n",
              "      <th>1</th>\n",
              "      <td>40.571987, -74.10823</td>\n",
              "      <td>(2460, Hylan Boulevard, New Dorp, Staten Islan...</td>\n",
              "    </tr>\n",
              "    <tr>\n",
              "      <th>2</th>\n",
              "      <td>40.879955, -73.87888</td>\n",
              "      <td>(Bainbridge Avenue &amp; East 210th Street, Bainbr...</td>\n",
              "    </tr>\n",
              "    <tr>\n",
              "      <th>3</th>\n",
              "      <td>40.83087, -73.87495</td>\n",
              "      <td>(1245, Morrison Avenue, West Farms, Bronx Coun...</td>\n",
              "    </tr>\n",
              "    <tr>\n",
              "      <th>4</th>\n",
              "      <td>40.705135, -73.905334</td>\n",
              "      <td>(1911, Palmetto Street, Ridgewood, Queens, Cit...</td>\n",
              "    </tr>\n",
              "  </tbody>\n",
              "</table>\n",
              "</div>\n",
              "      <button class=\"colab-df-convert\" onclick=\"convertToInteractive('df-3cd6a81f-2bea-4f8d-a90e-c814e1d2e2e2')\"\n",
              "              title=\"Convert this dataframe to an interactive table.\"\n",
              "              style=\"display:none;\">\n",
              "        \n",
              "  <svg xmlns=\"http://www.w3.org/2000/svg\" height=\"24px\"viewBox=\"0 0 24 24\"\n",
              "       width=\"24px\">\n",
              "    <path d=\"M0 0h24v24H0V0z\" fill=\"none\"/>\n",
              "    <path d=\"M18.56 5.44l.94 2.06.94-2.06 2.06-.94-2.06-.94-.94-2.06-.94 2.06-2.06.94zm-11 1L8.5 8.5l.94-2.06 2.06-.94-2.06-.94L8.5 2.5l-.94 2.06-2.06.94zm10 10l.94 2.06.94-2.06 2.06-.94-2.06-.94-.94-2.06-.94 2.06-2.06.94z\"/><path d=\"M17.41 7.96l-1.37-1.37c-.4-.4-.92-.59-1.43-.59-.52 0-1.04.2-1.43.59L10.3 9.45l-7.72 7.72c-.78.78-.78 2.05 0 2.83L4 21.41c.39.39.9.59 1.41.59.51 0 1.02-.2 1.41-.59l7.78-7.78 2.81-2.81c.8-.78.8-2.07 0-2.86zM5.41 20L4 18.59l7.72-7.72 1.47 1.35L5.41 20z\"/>\n",
              "  </svg>\n",
              "      </button>\n",
              "      \n",
              "  <style>\n",
              "    .colab-df-container {\n",
              "      display:flex;\n",
              "      flex-wrap:wrap;\n",
              "      gap: 12px;\n",
              "    }\n",
              "\n",
              "    .colab-df-convert {\n",
              "      background-color: #E8F0FE;\n",
              "      border: none;\n",
              "      border-radius: 50%;\n",
              "      cursor: pointer;\n",
              "      display: none;\n",
              "      fill: #1967D2;\n",
              "      height: 32px;\n",
              "      padding: 0 0 0 0;\n",
              "      width: 32px;\n",
              "    }\n",
              "\n",
              "    .colab-df-convert:hover {\n",
              "      background-color: #E2EBFA;\n",
              "      box-shadow: 0px 1px 2px rgba(60, 64, 67, 0.3), 0px 1px 3px 1px rgba(60, 64, 67, 0.15);\n",
              "      fill: #174EA6;\n",
              "    }\n",
              "\n",
              "    [theme=dark] .colab-df-convert {\n",
              "      background-color: #3B4455;\n",
              "      fill: #D2E3FC;\n",
              "    }\n",
              "\n",
              "    [theme=dark] .colab-df-convert:hover {\n",
              "      background-color: #434B5C;\n",
              "      box-shadow: 0px 1px 3px 1px rgba(0, 0, 0, 0.15);\n",
              "      filter: drop-shadow(0px 1px 2px rgba(0, 0, 0, 0.3));\n",
              "      fill: #FFFFFF;\n",
              "    }\n",
              "  </style>\n",
              "\n",
              "      <script>\n",
              "        const buttonEl =\n",
              "          document.querySelector('#df-3cd6a81f-2bea-4f8d-a90e-c814e1d2e2e2 button.colab-df-convert');\n",
              "        buttonEl.style.display =\n",
              "          google.colab.kernel.accessAllowed ? 'block' : 'none';\n",
              "\n",
              "        async function convertToInteractive(key) {\n",
              "          const element = document.querySelector('#df-3cd6a81f-2bea-4f8d-a90e-c814e1d2e2e2');\n",
              "          const dataTable =\n",
              "            await google.colab.kernel.invokeFunction('convertToInteractive',\n",
              "                                                     [key], {});\n",
              "          if (!dataTable) return;\n",
              "\n",
              "          const docLinkHtml = 'Like what you see? Visit the ' +\n",
              "            '<a target=\"_blank\" href=https://colab.research.google.com/notebooks/data_table.ipynb>data table notebook</a>'\n",
              "            + ' to learn more about interactive tables.';\n",
              "          element.innerHTML = '';\n",
              "          dataTable['output_type'] = 'display_data';\n",
              "          await google.colab.output.renderOutput(dataTable, element);\n",
              "          const docLink = document.createElement('div');\n",
              "          docLink.innerHTML = docLinkHtml;\n",
              "          element.appendChild(docLink);\n",
              "        }\n",
              "      </script>\n",
              "    </div>\n",
              "  </div>\n",
              "  "
            ]
          },
          "metadata": {},
          "execution_count": 66
        }
      ]
    },
    {
      "cell_type": "code",
      "source": [
        "# Export the DataFrame to a CSV file\n",
        "On_street.to_csv('On_street.csv', index=False)\n",
        "files.download('On_street.csv')"
      ],
      "metadata": {
        "id": "9AMUjpkZFcb-"
      },
      "execution_count": null,
      "outputs": []
    },
    {
      "cell_type": "code",
      "source": [
        "missing_borough = pd.read_csv(\"/content/joined_column.csv\")\n",
        "missing_street = pd.read_csv(\"/content/On_street.csv\")\n",
        "\n",
        "\n",
        "# Join the dataframes based on the 'Location' column\n",
        "missing_vals = pd.concat([missing_borough, missing_street]).drop_duplicates().reset_index(drop=True)\n",
        "\n",
        "\n",
        "missing_vals"
      ],
      "metadata": {
        "id": "4CWQGgoOdlSs"
      },
      "execution_count": null,
      "outputs": []
    },
    {
      "cell_type": "code",
      "source": [
        "#all boroughs in New york\n",
        "bors = ['Bronx', 'Brooklyn', 'Queens', 'Manhattan', 'Staten Island']\n",
        "\n",
        "bors"
      ],
      "metadata": {
        "id": "w4J3sQbPvfsW"
      },
      "execution_count": null,
      "outputs": []
    },
    {
      "cell_type": "code",
      "source": [
        "missing_vals[\"address\"] = missing_vals[\"address\"].apply(lambda x: str(x))\n",
        "# Split the 'address' column and extract the Borough, On street name and Zip code\n",
        "\n",
        "\n",
        "# Define a function to get Boroughs if they match a value in the list\n",
        "def replace_value(value):\n",
        "    for i in bors:\n",
        "      if i in value:\n",
        "        return i\n",
        "    else:\n",
        "        return 'unknown'\n",
        "\n",
        "# Apply the function to the address column\n",
        "missing_vals['Borough'] = missing_vals['address'].apply(replace_value)\n",
        "\n",
        "#On Street name\n",
        "missing_vals[\"ON STREET\"] = missing_vals[\"address\"].apply(lambda x: str(x).split(\", \")[1] if (x and \", \" in x) else \"\")\n",
        "\n",
        "#Zip Code\n",
        "missing_vals[\"Zip Code\"] = missing_vals[\"address\"].apply(lambda x: str(x).split(\", \")[-2] if (x and \", \" in x) else \"\")\n",
        "\n",
        "#Locatrion\n",
        "missing_vals[\"LOCATION\"] = missing_vals[\"Location\"].apply(lambda x: \"POINT (\" + str(x).split(\", \")[-1] + \" \" + str(x).split(\", \")[0] + \")\" if (x and \", \" in x) else \"\" )\n",
        "\n",
        "missing_vals.Borough.value_counts()"
      ],
      "metadata": {
        "id": "q4D0pA8De5LH"
      },
      "execution_count": null,
      "outputs": []
    },
    {
      "cell_type": "code",
      "execution_count": null,
      "metadata": {
        "id": "cbNOGsX_SqxA"
      },
      "outputs": [],
      "source": [
        "#getting the number of records that have all vehicle type codes missing\n",
        "df[df[\"VEHICLE TYPE CODE 1\"].isna() & df[\"VEHICLE TYPE CODE 2\"].isna() & df[\"VEHICLE TYPE CODE 3\"].isna() & df[\"VEHICLE TYPE CODE 4\"].isna() & df[\"VEHICLE TYPE CODE 5\"].isna()].isna().sum()"
      ]
    },
    {
      "cell_type": "code",
      "execution_count": null,
      "metadata": {
        "id": "7AI8UgVQYUa8"
      },
      "outputs": [],
      "source": [
        "#deleting rocirds that have no vehicle type code\n",
        "df = df.dropna(how='all', subset=[\"VEHICLE TYPE CODE 1\", \"VEHICLE TYPE CODE 2\", \n",
        "                                  \"VEHICLE TYPE CODE 3\", \"VEHICLE TYPE CODE 4\", \n",
        "                                  \"VEHICLE TYPE CODE 5\",])\n"
      ]
    },
    {
      "cell_type": "code",
      "source": [
        "# Merge the two DataFrames on the ID column and replace missing values in df1 with values from df2\n",
        "df_merge = pd.merge(df, missing_vals, on='LOCATION', how='left')\n",
        "\n",
        "\n",
        "df_merge['BOROUGH'].fillna(df_merge['Borough'], inplace=True)\n",
        "df_merge['ZIP CODE'].fillna(df_merge['Zip Code'], inplace=True)\n",
        "df_merge['ON STREET NAME'].fillna(df_merge['ON STREET'], inplace=True)\n",
        "\n",
        "# The resulting DataFrame with replaced missing values\n",
        "df_merge = df_merge.drop(['Location', 'address', \"Borough\", 'ON STREET', 'Zip Code'], axis=1)"
      ],
      "metadata": {
        "id": "4eKr8pZ5F_TB"
      },
      "execution_count": null,
      "outputs": []
    },
    {
      "cell_type": "code",
      "source": [
        "df_merge['BOROUGH'] = df_merge['BOROUGH'].str.upper()\n",
        "df_merge['ON STREET NAME'] = df_merge['ON STREET NAME'].str.upper()"
      ],
      "metadata": {
        "id": "9ZyiWP3ZL_Va"
      },
      "execution_count": null,
      "outputs": []
    },
    {
      "cell_type": "code",
      "source": [
        "df_merge"
      ],
      "metadata": {
        "id": "gz2x6aBUMcnX"
      },
      "execution_count": null,
      "outputs": []
    },
    {
      "cell_type": "code",
      "source": [
        "from google.colab import files\n",
        "# Export the DataFrame to a CSV file\n",
        "df_merge.to_csv('Cleandata.csv', index=False)\n",
        "files.download('Cleandata.csv')"
      ],
      "metadata": {
        "id": "c30wSwx7wJOX"
      },
      "execution_count": null,
      "outputs": []
    },
    {
      "cell_type": "code",
      "source": [
        "#importing data from  Analytics\n",
        "df = pd.read_csv(\"/content/Cleandata.csv\")"
      ],
      "metadata": {
        "id": "CO7vPvouewAE"
      },
      "execution_count": null,
      "outputs": []
    },
    {
      "cell_type": "code",
      "source": [
        "df.columns"
      ],
      "metadata": {
        "id": "7QGM9wYVfuIT"
      },
      "execution_count": null,
      "outputs": []
    },
    {
      "cell_type": "code",
      "source": [
        "#wrong values\n",
        "mis_val = {'Sedan': 'Sedan',\n",
        " 'Station Wagon/Sport Utility Vehicle': 'Station Wagon',\n",
        " 'Taxi': 'Taxi',\n",
        " 'Pick-up Truck': 'Truck',\n",
        " 'Box Truck': 'Truck',\n",
        " 'Bike': 'Bike',\n",
        " 'Bus': 'Bus',\n",
        " 'Motorcycle': 'Motorcycle',\n",
        " 'Tractor Truck Diesel': 'Tractor',\n",
        " 'Van': 'Van',\n",
        " 'Ambulance': 'Ambulance',\n",
        " 'E-Scooter': 'E-Scooter',\n",
        " 'Convertible': 'Sedan',\n",
        " 'Dump': 'Truck',\n",
        " 'E-Bike': 'E-Bike',\n",
        " 'PK': 'Truck',\n",
        " '4 dr sedan': 'Sedan',\n",
        " 'Flat Bed': 'Truck',\n",
        " 'Garbage Or Refuse': 'Garbage Truck',\n",
        " 'Moped': 'Moped',\n",
        " 'AMBULANCE': 'Ambulance',\n",
        " 'Carry All': 'Utility Vehicle', \n",
        " 'Tow Truck / Wrecker': 'Tow Truck',\n",
        " 'Chassis Cab': 'Truck',\n",
        " 'Tractor Truck Gasoline': 'Tractor',\n",
        " 'Tanker': 'Tanker',\n",
        " 'Motorscooter': 'Moped',\n",
        " 'Motorbike': 'Motorbike',\n",
        " 'LIMO': 'Limousine',\n",
        " 'Concrete Mixer': 'Construction Vehicle',\n",
        " 'ambulance': 'Ambulance',\n",
        " 'TRAILER': 'Trailer',\n",
        " '3-Door': 'Sedan',\n",
        " 'FIRE TRUCK': 'Fire Truck',\n",
        " 'Beverage Truck': 'Truck',\n",
        " 'Flat Rack': 'Truck',\n",
        " 'Lift Boom': 'Utility Vehicle',\n",
        " 'School Bus': 'School Bus',\n",
        " 'Refrigerated Van': 'Van',\n",
        " 'Armored Truck': 'Armored Truck',\n",
        " 'Multi-Wheeled Vehicle': 'Truck',\n",
        " '2 dr sedan': 'Sedan',\n",
        " 'MOPED': 'Moped',\n",
        " 'AMBU': 'Ambulance',\n",
        " 'TRUCK': 'Truck',\n",
        " 'Bulk Agriculture': 'Utility vehicle',\n",
        " 'van': 'Van',\n",
        " 'Minibike': 'Moped',\n",
        " 'Stake or Rack': 'Trailer',\n",
        " 'BOX TRUCK': 'Truck',\n",
        " 'Trailer': 'Trailer',\n",
        " 'FIRETRUCK': 'Fire Truck',\n",
        " 'Open Body': 'Truck',\n",
        " 'FDNY TRUCK': 'Fire Truck',\n",
        " 'USPS': 'Van',\n",
        " 'UTIL': 'Utility Vehicle',\n",
        " 'REFG': 'Van',\n",
        " 'moped': 'Moped',\n",
        " 'FIRE ENGIN': 'Fire Truck',\n",
        " 'Fire Truck': 'Fire Truck',\n",
        " 'DELV': 'Van',\n",
        " 'POSTAL TRU': 'Truck',\n",
        " 'UNK': 'Unknown',\n",
        " 'government': 'Government Vehicle',\n",
        " 'postal tru': 'Truck',\n",
        " 'Minicycle': 'Moped',\n",
        " 'ambu': 'Ambulance',\n",
        " 'DELIVERY': 'Van',\n",
        " 'PICK UP': 'Truck',\n",
        " 'FLATBED': 'Truck',\n",
        " 'FDNY FIRE': 'Fire Truck',\n",
        " 'TRK': 'Truck',\n",
        " 'USPS TRUCK': 'Truck',\n",
        " 'FDNY AMBUL': 'Ambulance',\n",
        " 'DELIVERY V': 'Van',\n",
        " 'Cargo Van': 'Van',\n",
        " 'FDNY Ambul': 'Ambulance',\n",
        " 'TOW TRUCK': 'Tow Truck',\n",
        " 'SCOOTER': 'Scooter',\n",
        " 'GARBAGE TR': 'Garbage Truck',\n",
        " 'TRAC': 'Tractor',\n",
        " 'Fdny ambul': 'Ambulance',\n",
        " 'dump truck': 'Truck',\n",
        " 'forklift': 'Forklift',\n",
        " 'FORK LIFT': 'Forklift',\n",
        " 'Pick up': 'Truck',\n",
        " 'LIGHT TRAI': 'Trailer',\n",
        " 'GOLF CART': 'Utility Vehicle',\n",
        " 'Van Camper': 'Van',\n",
        " 'UNKNOWN': 'Unknown',\n",
        " 'Work van': 'Van',\n",
        " 'Motorized Home': 'Van',\n",
        " 'e skate bo': 'Skateboard',\n",
        " 'Enclosed Body - Removable Enclosure': 'Truck',\n",
        " 'MOTOR SCOO': 'Moped',\n",
        " 'SUBURBAN': 'SUV',\n",
        " 'Commercial': 'Commercial Vehicle',\n",
        " 'E bike': 'E-Bike',\n",
        " 'BACK HOE': 'Construction Vehicle',\n",
        " 'fire truck': 'Fire Truck',\n",
        " 'E-bike': 'E-Bike',\n",
        " 'LCOMM': 'Unknown',\n",
        " 'FREIG': 'Trailer',\n",
        " 'PICK UP TR': 'Truck',\n",
        " 'FDNY Fire': 'Fire Truck',\n",
        " 'Ford Van': 'Van',\n",
        " 'PICK-UP TR': 'Truck',\n",
        " 'CHEVROLET': 'SUV',\n",
        " 'Ford sprin': 'SUV',\n",
        " 'hrse': 'Horse',\n",
        " 'MAIL TRUCK': 'Truck',\n",
        " 'EMS': 'Van',\n",
        " 'COM TRANS': 'Commercial Vehicle',\n",
        " '0': 'Unknown',\n",
        " 'E-BIKE': 'E-Bike',\n",
        " 'DIRT BIKE': 'Motorbike',\n",
        " 'pc': 'Sedan',\n",
        " 'Hearse': 'Hearse',\n",
        " 'Firetruck': 'Fire Truck',\n",
        " 'FDNY EMT': 'Fire Truck',\n",
        " 'OMR': 'Unknown',\n",
        " 'FDNY FIRET': 'Fire Truck',\n",
        " 'pick': 'Truck',\n",
        " 'Tow': 'Tow Truck',\n",
        " 'CARGO VAN': 'Van',\n",
        " 'TRAIL': 'Trail',\n",
        " 'DUMP': 'Truck',\n",
        " 'Pickup with mounted Camper': 'Truck',\n",
        " 'delviery': 'Van',\n",
        " 'SCHOOL BUS': 'School Bus',\n",
        " 'Tow Truck': 'Tow Truck',\n",
        " 'AMB': 'Ambulance',\n",
        " 'Horse Trai': 'Horse',\n",
        " 'USPS #7530': 'Van',\n",
        " 'FDNY': 'Fire Truck',\n",
        " 'delivery v': 'Van',\n",
        " 'E-Bik': 'E-Bike',\n",
        " 'FDNY LADDE': 'Fire Truck',\n",
        " 'FREIG DELV': 'Truck',\n",
        " 'Utility.': 'Utility Vehicle',\n",
        " 'PUSH SCOOT': 'Children Vehicle',\n",
        " 'White ambu': 'Ambulance',\n",
        " 'SELF INSUR': 'Unknown',\n",
        " 'FREIGHTLIN': 'Truck',\n",
        " 'FREIGHT TR': 'Truck',\n",
        " 'Fire truck': 'Fire Truck',\n",
        " 'USPS POSTA': 'Van',\n",
        " 'Tow truck': 'Tow Truck',\n",
        " 'escavator': 'Construction Vehicle',\n",
        " 'P/SH': 'Unknown',\n",
        " 'TRL': 'Trailer',\n",
        " 'Lunch Wagon': 'Truck',\n",
        " 'Dump truck': 'Truck',\n",
        " 'ford econo': 'SUV',\n",
        " 'commercial': 'Commercial Vehicle',\n",
        " 'com': 'Commercial Vehicle',\n",
        " 'tow truck': 'Tow Truck',\n",
        " 'Go kart': 'Utility Vehicle',\n",
        " 'FDNY #226': 'Fire Truck',\n",
        " 'FREIGHT FL': 'Trailer',\n",
        " 'Delv': 'Van',\n",
        " 'truck': 'Truck',\n",
        " 'Livestock Rack': 'Truck',\n",
        " 'box truck': 'Truck',\n",
        " 'USPS VAN': 'Van',\n",
        " '18 WHEELER': 'Trailer',\n",
        " 'AMBULENCE': 'Ambulance',\n",
        " 'FOOD TRUCK': 'Truck',\n",
        " 'MOVING VAN': 'Van',\n",
        " 'backhoe': 'Construction Vehicle',\n",
        " 'COMMERCIAL': 'Commercial Vehicle',\n",
        " 'Tractor': 'Tractor',\n",
        " 'MOTORSCOOT': 'Moped',\n",
        " 'cross': 'SUV',\n",
        " 'JOHN DEERE': 'Utility Vehicle',\n",
        " 'TRUCK VAN': 'Van',\n",
        " 'Work Van': 'Van',\n",
        " 'Lawnmower': 'Utility Vehicle',\n",
        " 'SWT': 'Unknown',\n",
        " 'COURIER': 'Van',\n",
        " 'PSD': 'Sedan',\n",
        " 'FDNY fire': 'Fire Truck',\n",
        " 'dilevery t': 'Truck',\n",
        " 'Front-Load': 'Trailer',\n",
        " 'DRILL RIG': 'Construction Vehicle',\n",
        " 'GEN  AMBUL': 'Ambulance',\n",
        " 'Tractor tr': 'Tractor',\n",
        " 'Pumper': 'Fire Truck',\n",
        " 'OTH': 'Unknown',\n",
        " 'TRUCK FLAT': 'Truck',\n",
        " 'UNKN': 'Unknown',\n",
        " 'UTILITY VE': 'Utility Vehicle',\n",
        " 'suburban': 'SUV',\n",
        " 'WORK VAN': 'Van',\n",
        " 'CAT': 'Construction Vehicle',\n",
        " 'Pick up Tr': 'Truck',\n",
        " 'ELEC. UNIC': 'Unknown',\n",
        " 'DELIVERY T': 'Truck',\n",
        " 'MTA BUS': 'Bus',\n",
        " 'MECHANICAL': 'Sedan',\n",
        " 'NYC AMBULA': 'Ambulance',\n",
        " 'ELECTRIC S': 'E-Scooter',\n",
        " 'postal bus': 'van',\n",
        " 'Trc': 'Truck',\n",
        " 'NYC FD': 'Fire Truck',\n",
        " 'Pedicab': 'Pedicab',\n",
        " 'f-250': 'Truck',\n",
        " 'FUSION': 'Sedan',\n",
        " 'FDNY ENGIN': 'Fire Truck',\n",
        " 'CHEVY EXPR': 'Van',\n",
        " 'UT': 'Unknown',\n",
        " 'Unknown': 'Unknown',\n",
        " 'Bucket Tru': 'Truck',\n",
        " 'usps': 'Van',\n",
        " 'DOT EQUIPM': 'Truck',\n",
        " 'ROAD SWEEP': 'Utility Vehicle',\n",
        " 'Wh Ford co': 'Truck',\n",
        " 'SLINGSHOT': 'Utility Vehicle',\n",
        " 'Horse': 'Horse',\n",
        " 'FD LADDER': 'Fire Truck',\n",
        " 'Fork lift' : 'Forklift',\n",
        " 'E REVEL SC': 'E-Scooter',\n",
        " 'UPS TRUCK': 'Truck',\n",
        " 'Freight': 'Truck',\n",
        " 'BOBCAT FOR': 'Truck',\n",
        " 'FDNY Engin': 'Fire Truck',\n",
        " 'School bus': 'School Bus'}\n",
        "\n",
        "vehicle_type_mapping = {\n",
        "    'Sanitation': 'Truck',\n",
        "    'Ice Cream': 'Truck',\n",
        "    'Pickup': 'Truck',\n",
        "    'Tractor Tr': 'Tractor',\n",
        "    'Enclosed Body - Nonremovable Enclosure': 'Unknown',\n",
        "    'Fdny Ems': 'Fire Truck',\n",
        "    'Pallet': 'Unknown',\n",
        "    'Lcom': 'Unknown',\n",
        "    'Glnen': 'Sedan',\n",
        "    'Sweeper': 'Road Sweeper',\n",
        "    'Tl': 'Sedan',\n",
        "    'Fd Truck': 'Fire Truck',\n",
        "    'Fire': 'Fire Truck',\n",
        "    'Itas': 'Sedan',\n",
        "    'Uhaul Truc': 'Truck',\n",
        "    '18 Weeler': 'Trailer',\n",
        "    'Mailtruck': 'Truck',\n",
        "    'E-Scoter': 'E-Scooter',\n",
        "    'Lma': 'Unknown',\n",
        "    'Skid Loade': 'Construction Vehicle',\n",
        "    'T630 Forkl': 'Forklift',\n",
        "    'Rds': 'Sedan',\n",
        "    'Access A R': 'Bus',\n",
        "    'Crane': 'Construction Vehicle',\n",
        "    'Omt': 'Unknown',\n",
        "    'Postal Veh': 'Truck',\n",
        "    'Forklift T': 'Forklift',\n",
        "    'City Mta B': 'Bus',\n",
        "    'Pumper Tru': 'Fire Truck',\n",
        "    'Trailor': 'Trailer',\n",
        "    'Glben': 'Sedan',\n",
        "    'Armored Tr': 'Armored Truck',\n",
        "    'Sprinter V': 'Van',\n",
        "    'Excavator': 'Construction Vehicle',\n",
        "    'Pickup Tru': 'Truck',\n",
        "    'Uhaul': 'Truck',\n",
        "    'Cmix': 'Construction Vehicle',\n",
        "    'Tract': 'Tractor',\n",
        "    'Constructi': 'Construction Vehicle',\n",
        "    'Flatbed Tr': 'Truck',\n",
        "    'Tour Bus': 'Tour Bus',\n",
        "    'Usps Mail': 'Van',\n",
        "    'Us Postal': 'Van',\n",
        "    'Jetski': 'JetSki',\n",
        "    'Scoot': 'Scooter',\n",
        "    'Power Shov': 'Construction Vehicle',\n",
        "    'Ems Truck': 'Truck',\n",
        "    'Nyc Bus': 'Bus',\n",
        "    'E-Skateboa': 'Skateboard',\n",
        "    'Special Pu': 'Special Purpose Vehicle',\n",
        "    'Frieghtlin': 'Truck',\n",
        "    'Ram': 'Truck',\n",
        "    'Palfinger': 'Construction Vehicle',\n",
        "    'Moped Scoo': 'Moped',\n",
        "    'Electric M': 'E-bike',\n",
        "    'Internatio': 'International',\n",
        "    'Street Cle': 'Road Sweeper',\n",
        "    'Mta Truck': 'Truck',\n",
        "    'Escooter': 'E-Scooter',\n",
        "    '4Dsd': 'Sedan',\n",
        "    'Nyc Firetr': 'Fire Truck',\n",
        "    'Street Swe': 'Road Sweeper',\n",
        "    'Vanette': 'Van',\n",
        "    'Ukn': 'Unknown',\n",
        "    'Utility Tr': 'Utility Vehicle',\n",
        "    'Mopd': 'Moped',\n",
        "    'Tree Cutte': 'Tree Cutter',\n",
        "    'Toyota': 'Sedan',\n",
        "    'Bob Cat': 'Truck',\n",
        "    'Escovator': 'Construction Vehicle',\n",
        "    'Glp050Vxev': 'Forklift',\n",
        "    'Van/Transi': 'Van',\n",
        "    'Razor Scoo': 'E-Scooter',\n",
        "    'Gas Scoote': 'Scooter',\n",
        "    'Mobile': 'Unknown',\n",
        "    'Haul For H': 'Van',\n",
        "    'Pick Truck': 'Truck',\n",
        "    'Commerical': 'Commercial Vehicle',\n",
        "    'Glass Rack': 'Unknown',\n",
        "    'Suv': 'SUV',\n",
        "    'Vehicle 2': 'Unknown',\n",
        "    'Tow Trk': 'Tow Truck'}\n"
      ],
      "metadata": {
        "id": "RRwe0ZyckmAf"
      },
      "execution_count": null,
      "outputs": []
    },
    {
      "cell_type": "code",
      "source": [
        "df['VEHICLE TYPE CODE 1'] = df['VEHICLE TYPE CODE 1'].str.title().replace(mis_val)\n",
        "df['VEHICLE TYPE CODE 1'] = df['VEHICLE TYPE CODE 1'].str.title().replace(vehicle_type_mapping)\n",
        "df['VEHICLE TYPE CODE 1'].value_counts()"
      ],
      "metadata": {
        "colab": {
          "base_uri": "https://localhost:8080/"
        },
        "id": "uW8-CILW-2fp",
        "outputId": "4e68a06b-d72c-4cff-8482-1bbe28ed4240"
      },
      "execution_count": null,
      "outputs": [
        {
          "output_type": "execute_result",
          "data": {
            "text/plain": [
              "Sedan                   2214\n",
              "Station Wagon           1639\n",
              "Truck                    143\n",
              "Taxi                     121\n",
              "Pick-Up Truck            109\n",
              "Bike                     102\n",
              "Motorcycle                51\n",
              "Bus                       43\n",
              "Tractor                   41\n",
              "Van                       32\n",
              "Ambulance                 23\n",
              "E-Scooter                 21\n",
              "E-Bike                    20\n",
              "Moped                     12\n",
              "Garbage Or Refuse          9\n",
              "Utility Vehicle            8\n",
              "Tow Truck                  5\n",
              "Construction Vehicle       4\n",
              "Unknown                    3\n",
              "Fire Truck                 3\n",
              "Tanker                     2\n",
              "Trailer                    2\n",
              "Armored Truck              1\n",
              "Stake Or Rack              1\n",
              "Name: VEHICLE TYPE CODE 1, dtype: int64"
            ]
          },
          "metadata": {},
          "execution_count": 22
        }
      ]
    },
    {
      "cell_type": "code",
      "source": [
        "df['VEHICLE TYPE CODE 2'] = df['VEHICLE TYPE CODE 2'].str.upper().replace(mis_val)\n",
        "df['VEHICLE TYPE CODE 2'] = df['VEHICLE TYPE CODE 2'].str.title().replace(vehicle_type_mapping)\n",
        "df['VEHICLE TYPE CODE 2'].value_counts()"
      ],
      "metadata": {
        "colab": {
          "base_uri": "https://localhost:8080/"
        },
        "id": "e9CTYkVifn84",
        "outputId": "bc8b69f3-2059-42aa-c3a8-98980bf04be6"
      },
      "execution_count": null,
      "outputs": [
        {
          "output_type": "execute_result",
          "data": {
            "text/plain": [
              "Sedan                   1389\n",
              "Station Wagon            944\n",
              "Bike                     258\n",
              "Truck                    124\n",
              "Pick-Up Truck             74\n",
              "Motorcycle                58\n",
              "Taxi                      45\n",
              "E-Bike                    44\n",
              "E-Scooter                 38\n",
              "Tractor                   36\n",
              "Van                       34\n",
              "Bus                       28\n",
              "Ambulance                 19\n",
              "Moped                     12\n",
              "Motorbike                 10\n",
              "Garbage Or Refuse          8\n",
              "Utility Vehicle            8\n",
              "Fire Truck                 8\n",
              "Tow Truck                  3\n",
              "Scooter                    3\n",
              "Tanker                     2\n",
              "Road Sweeper               2\n",
              "Forklift                   1\n",
              "Construction Vehicle       1\n",
              "Commercial Vehicle         1\n",
              "Trailer                    1\n",
              "Armored Truck              1\n",
              "Limousine                  1\n",
              "Skateboard                 1\n",
              "Unknown                    1\n",
              "International              1\n",
              "Stake Or Rack              1\n",
              "Pedicab                    1\n",
              "Name: VEHICLE TYPE CODE 2, dtype: int64"
            ]
          },
          "metadata": {},
          "execution_count": 27
        }
      ]
    },
    {
      "cell_type": "code",
      "source": [
        "df['VEHICLE TYPE CODE 3'] = df['VEHICLE TYPE CODE 3'].str.title().replace(mis_val)\n",
        "df['VEHICLE TYPE CODE 3'] = df['VEHICLE TYPE CODE 3'].str.title().replace(vehicle_type_mapping)\n",
        "df['VEHICLE TYPE CODE 3'].value_counts()"
      ],
      "metadata": {
        "colab": {
          "base_uri": "https://localhost:8080/"
        },
        "id": "Ab-SByr-MVsa",
        "outputId": "4e1d7c1d-7612-43fb-b8a9-ffda2bfd113c"
      },
      "execution_count": null,
      "outputs": [
        {
          "output_type": "execute_result",
          "data": {
            "text/plain": [
              "Sedan            230\n",
              "Station Wagon    196\n",
              "Pick-Up Truck     12\n",
              "Truck              7\n",
              "Taxi               7\n",
              "Bike               5\n",
              "Motorcycle         2\n",
              "Bus                2\n",
              "Tractor            2\n",
              "Van                1\n",
              "Garbage Truck      1\n",
              "Name: VEHICLE TYPE CODE 3, dtype: int64"
            ]
          },
          "metadata": {},
          "execution_count": 35
        }
      ]
    },
    {
      "cell_type": "code",
      "source": [
        "df['VEHICLE TYPE CODE 4'] = df['VEHICLE TYPE CODE 4'].str.title().replace(mis_val)\n",
        "df['VEHICLE TYPE CODE 4'] = df['VEHICLE TYPE CODE 4'].str.title().replace(vehicle_type_mapping)\n",
        "df['VEHICLE TYPE CODE 4'].value_counts()"
      ],
      "metadata": {
        "colab": {
          "base_uri": "https://localhost:8080/"
        },
        "id": "-dl84LWb_ED0",
        "outputId": "426e2341-5604-4cb8-a171-7927517ee759"
      },
      "execution_count": null,
      "outputs": [
        {
          "output_type": "execute_result",
          "data": {
            "text/plain": [
              "Station Wagon    60\n",
              "Sedan            58\n",
              "Truck             4\n",
              "Motorcycle        3\n",
              "Pick-Up Truck     3\n",
              "Bike              1\n",
              "Van               1\n",
              "Name: VEHICLE TYPE CODE 4, dtype: int64"
            ]
          },
          "metadata": {},
          "execution_count": 36
        }
      ]
    },
    {
      "cell_type": "code",
      "source": [
        "df['VEHICLE TYPE CODE 5'] = df['VEHICLE TYPE CODE 5'].str.title().replace(mis_val)\n",
        "df['VEHICLE TYPE CODE 5'] = df['VEHICLE TYPE CODE 5'].str.title().replace(vehicle_type_mapping)\n",
        "df['VEHICLE TYPE CODE 5'].value_counts()"
      ],
      "metadata": {
        "colab": {
          "base_uri": "https://localhost:8080/"
        },
        "id": "roI_L7md_MqU",
        "outputId": "3fa56231-5c79-4bf2-f453-b44b156773b4"
      },
      "execution_count": null,
      "outputs": [
        {
          "output_type": "execute_result",
          "data": {
            "text/plain": [
              "Station Wagon    22\n",
              "Sedan            21\n",
              "Motorcycle        2\n",
              "Pk                1\n",
              "Name: VEHICLE TYPE CODE 5, dtype: int64"
            ]
          },
          "metadata": {},
          "execution_count": 38
        }
      ]
    },
    {
      "cell_type": "code",
      "source": [
        "df.BOROUGH = df.BOROUGH.str.title()\n",
        "df['ON STREET NAME'] = df['ON STREET NAME'].str.title()"
      ],
      "metadata": {
        "id": "FNZZniJP5AkV"
      },
      "execution_count": null,
      "outputs": []
    },
    {
      "cell_type": "code",
      "source": [],
      "metadata": {
        "id": "V_P7bfD-541m"
      },
      "execution_count": null,
      "outputs": []
    },
    {
      "cell_type": "code",
      "source": [
        "from google.colab import files\n",
        "# Export the DataFrame to a CSV file\n",
        "df.to_csv('Clean.csv', index=False)\n",
        "files.download('Clean.csv')"
      ],
      "metadata": {
        "id": "TCw366I_5YSX"
      },
      "execution_count": null,
      "outputs": []
    }
  ],
  "metadata": {
    "colab": {
      "provenance": [],
      "authorship_tag": "ABX9TyO56ozBq1GJnjWv8NTjXpxd",
      "include_colab_link": true
    },
    "kernelspec": {
      "display_name": "Python 3",
      "name": "python3"
    },
    "language_info": {
      "name": "python"
    }
  },
  "nbformat": 4,
  "nbformat_minor": 0
}